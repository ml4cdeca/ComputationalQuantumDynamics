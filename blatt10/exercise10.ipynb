{
 "cells": [
  {
   "cell_type": "markdown",
   "metadata": {},
   "source": [
    "# Programing exercise 10: Monte Carlo wave function method\n",
    "\n",
    "Due on Monday, 21.01.2019, 14.15h\n",
    "\n",
    "### Total: 100 points"
   ]
  },
  {
   "cell_type": "markdown",
   "metadata": {},
   "source": [
    "## The problem\n",
    "\n",
    "We will again consider the EIT problem from programming exercise 9.\n",
    "\n",
    "Light propagating through an atomic medium is usually scattered and thus absorbed thorough near-resonant coupling to a transition from the ground ($|g_1\\rangle$) to an excited ($|e\\rangle$) electronic state. If a second light field (\"coupling laser\") couples the excited state to a third, long-lived, state ($|g_2\\rangle$), the medium can again become transparent for the first light field (\"probe laser\"). This effect, called electromagnetically induced transparency (EIT) - the above description referring to the lambda confuration for obvious reasons - has led to a plethora of applications, see e.g. Rev. Mod. Phys. 77, 633 (2005) [1]. The dynamics of the atomic populations can be simulated using the Lindbald master equation approach, accounting for the coherent driving laser fields, and incoherent processes such as spontaneous emission and dephasing, e.g. due to finite laser linewidth. The complex refractive index of the atomic medium is given by $n=\\sqrt{1+\\chi}\\approx 1 + (\\chi_R + \\chi_I)/2$, where the real and imaginary part of complex  susceptibility $\\chi$ account for diffraction and absorption of the probe light respectively. $\\chi$ depends on the polarizability of the atomic dipoles in the medium and is thus proportional to expectation value of the operator $|g_1\\rangle \\langle e|$, i.e. $\\rm{tr}[|g_1\\rangle \\langle e| \\rho] = \\langle e| \\rho |g_1 \\rangle = \\rho_{eg_1}$. This coherence will thus be the main object of interest.\n",
    "\n",
    "The interaction with the laser fields is described by the Hamiltonian (in rotating wave approximation, in the basis $\\{|g_1\\rangle,|g_2\\rangle,|e\\rangle\\}$, following the sign convention used in [1])\n",
    "$$\n",
    "H=\\left[\n",
    "\\begin{array}{ccc}\n",
    "0 & 0 & -\\Omega_p/2 \\\\\n",
    "0 & \\Delta_p-\\Delta_c & -\\Omega_c/2 \\\\\n",
    "-\\Omega_p/2 & -\\Omega_c/2 & \\Delta_p\n",
    "\\end{array}\n",
    "\\right]\n",
    "$$\n",
    "where $\\Omega$'s are Rabi-frequencies and $\\Delta$'s are the detunings of the lasers from the respective atomic transitions. $\\Delta_p-\\Delta_c$ is the \"two-photon-detuning\" sometimes abbreviated as $\\delta_2$.\n",
    "\n",
    "The dissipative processes we want to consider are the spontaneous emission from $e$ to both ground states $g_1$ and $g_2$ and later also the decay from $g_2$ to $g_1$, which breaks the EIT. These are accouted for by the jump operators\n",
    "$$\n",
    "\\Gamma_{eg_1} = \\sqrt{\\gamma_p} |g_1\\rangle \\langle e|, \\quad \\Gamma_{eg_2} = \\sqrt{\\gamma_c} |g_2\\rangle \\langle e|, \\quad\\Gamma_{g_2g_1} = \\sqrt{\\gamma_g} |g_1\\rangle \\langle g_2| .\n",
    "$$\n",
    "The resulting master equation reads\n",
    "$$\n",
    "\\dot\\rho = -i[H,\\rho] + \\mathcal{L}_{\\Gamma_{eg_1}} [\\rho]+ \\mathcal{L}_{\\Gamma_{eg_2}} [\\rho]+ \\mathcal{L}_{\\Gamma_{g_2g_1}} [\\rho]\n",
    "$$\n",
    "with the Lindblad superoperator\n",
    "$$\n",
    "\\mathcal{L}_{\\Gamma_x} [\\rho] = \\Gamma_x \\rho \\Gamma_x^\\dagger - \\frac{1}{2}(\\Gamma_x^\\dagger\\Gamma_x \\rho + \\rho \\Gamma_x^\\dagger\\Gamma_x)\n",
    "$$\n",
    "\n",
    "This time we want to solve the dynamics using the Monte Carlo wave function technique. For such a small system (3-dimensional Hilbert space) the method will not be more efficient than directly integrating the master equation. However, when it comes to many-body spin systems for example, the reduction from a $4^N$ to a $2^N$ dimensional problem at the expense of doing stochastic sampling, can be extremely useful."
   ]
  },
  {
   "cell_type": "code",
   "execution_count": 1,
   "metadata": {
    "collapsed": true
   },
   "outputs": [],
   "source": [
    "# load standard libraries\n",
    "\n",
    "import numpy as np   # standard numerics library\n",
    "import numpy.linalg as LA\n",
    "\n",
    "import matplotlib.pyplot as plt   # for making plots\n",
    "\n",
    "%matplotlib inline"
   ]
  },
  {
   "cell_type": "markdown",
   "metadata": {},
   "source": [
    "### Exercise 1 (40 points)\n",
    "\n",
    "Calculate a single jump trajectory by implementing the algorithm discussed in the lecture (see also Rev. Mod. Phys. 70, 101-144, 1998). \n",
    "\n",
    "Try out the following cases: \n",
    "- \"Standard EIT\" case: $\\Omega_p=1, \\Omega_c=2, \\gamma_p=2$ and all other parameters zero. Calculate the evolution up to t=10, plotting the populations of the three states. There should not be many jumps in this case. At long times any single trajectory should go to the correct dark state, which you can check using the analytical solution for the dark state. Even if you don't allow any jumps by setting the jump probability to zero, such that you simply propagate with the non-hermitian Hamiltonian and renormalize after each step, you already converge to the correct steady state. (Why?)\n",
    "- \"On-off\" case. When $\\Omega_p$ and $\\Gamma_p$ are much larger than $\\Omega_c$ and $\\Gamma_c$, we have a situation that is similar to the Dehmelt setup (Phys. Rev. Lett. 57, 1699) with the difference that we have a $\\Lambda$-scheme instead of a V-scheme. For the lambda scheme we always have EIT, i.e. the system will end up in the dark state after some time. However, if we add a small decay $\\gamma_g$ there is no exact dark state any more and we can observe a similar behavior to the \"telegraph noise\" reported in Phys. Rev. Lett. 57, 1699, where the atom alternates between a fluorescing state and a dark state. Try the parameters $\\Omega_p=1, \\Omega_c=0.1, \\gamma_p=1, \\gamma_c=0.1, \\gamma_g=0.01$ and integrate up to a long time (t=1000).\n",
    "- Optional: In the V-scheme the difference is that the decay is from the g-states to the e-state. In this case there is no true dark state. On the other hand, the resulting dynamics we get from the quantum jump simulation is not quite what one expects from the experiment with a single ion. Why is this? What are we missing? If we instead make a ladder scheme with a decay from g1 to e and from e to g2, the telegraph noise behavior is recovered. Try this case with $\\Omega_p=1, \\Omega_c=0.1, \\bar{\\gamma}_p=1, \\gamma_c=0.1$, where the overbar indicated that the decay goes into the opposite direction compared to the EIT case. Again integrate to a long time."
   ]
  },
  {
   "cell_type": "code",
   "execution_count": 12,
   "metadata": {
    "collapsed": true
   },
   "outputs": [],
   "source": [
    "#possible states\n",
    "g1=np.array([1,0,0])\n",
    "g2=np.array([0,1,0])\n",
    "e=np.array([0,0,1])\n",
    "#defininig jump operators\n",
    "def jump_op(p,c,g):\n",
    "    jeg1=np.sqrt(p)*np.outer(g1,e)\n",
    "    jeg2=np.sqrt(c)*np.outer(g2,e)\n",
    "    jg2g1=np.sqrt(g)*np.outer(g1,g2)\n",
    "    jump=[jeg1,jeg2,jg2g1]\n",
    "    return np.array(jump)"
   ]
  },
  {
   "cell_type": "code",
   "execution_count": 80,
   "metadata": {
    "collapsed": true
   },
   "outputs": [],
   "source": [
    "def buildH(Omp,Omc,delc,delp):\n",
    "    return np.array([[0,0,-Omp/2],[0,delp-delc,-Omc/2],[-Omp/2,-Omc/2,delp]])\n",
    "\n",
    "def buildHnh(H,Gamma):\n",
    "    return H-.5j*np.sum(Gamma.T@Gamma,axis=0)\n",
    "\n",
    "#propagation step:\n",
    "def evolve(psi,Hnh,dt):\n",
    "    return (np.identity(3)-1j*Hnh*dt)@psi\n",
    "def jump(psi,a,p,Gamma,dt):\n",
    "    return Gamma[a]@psi*np.sqrt(dt/p[a])\n",
    "def algorithm(psi0,H,Gamma,endTime,dt):\n",
    "    psi=[psi0]\n",
    "    steps=int(np.ceil(endTime/dt))\n",
    "    Hnh=buildHnh(H,Gamma)\n",
    "    for i in range(steps):\n",
    "        #calculate p\n",
    "        p=psi[i].T@(Gamma.T@Gamma)@psi[i]\n",
    "        r=np.random.random()\n",
    "        nextPsi=None\n",
    "        if len(p[p>r])==0:\n",
    "            #evolve with Hnh\n",
    "            nextPsi=evolve(psi[i],Hnh,dt)\n",
    "        else:\n",
    "            print('jump at %f'%(dt*i))\n",
    "            channel=np.where(p==sorted(p[p>r])[0]) #selecting nearest channel\n",
    "            nextPsi=jump(psi[i],channel,p,Gamma,dt)\n",
    "        psi.append(nextPsi/np.linalg.norm(nextPsi))\n",
    "        \n",
    "    return psi"
   ]
  },
  {
   "cell_type": "code",
   "execution_count": 87,
   "metadata": {
    "collapsed": false
   },
   "outputs": [],
   "source": [
    "# Standard EIT\n",
    "omeP = 1\n",
    "omeC = 2\n",
    "gammaP = 2\n",
    "gammaC = 0\n",
    "gammaG = 0\n",
    "DeltaP = 0\n",
    "DeltaC = 0\n",
    "\n",
    "\n",
    "populations=algorithm(e,buildH(omeP,omeC,DeltaC,DeltaP),jump_op(gammaP,gammaC,gammaG),10,.1)\n"
   ]
  },
  {
   "cell_type": "code",
   "execution_count": 88,
   "metadata": {
    "collapsed": false
   },
   "outputs": [
    {
     "data": {
      "text/plain": [
       "Text(0.5, 0, 't [dt]')"
      ]
     },
     "execution_count": 88,
     "metadata": {},
     "output_type": "execute_result"
    },
    {
     "data": {
      "image/png": "[encoded data removed]",
      "text/plain": [
       "<Figure size 432x288 with 1 Axes>"
      ]
     },
     "metadata": {},
     "output_type": "display_data"
    }
   ],
   "source": [
    "plt.plot(np.real(populations))\n",
    "plt.title('populations')\n",
    "plt.xlabel('t [dt]')\n"
   ]
  },
  {
   "cell_type": "markdown",
   "metadata": {},
   "source": [
    "### Exercise 2 (30 points)\n",
    "\n",
    "Implement the actual Monte Carlo wave function method: Average the observables over many jump trajectories.\n",
    "\n",
    "To start, try the parameters of the \"Standard EIT\" case. For 100 jump trajectories and a time step of 0.1 you should already get reasonable results. Compare the result for the populations and the imaginary part of $\\rho_{eg_1}$ (absorption) to the direct integration of the master equation from Programming Exercise 9.\n",
    "\n",
    "Also plot ~50 single trajectories (e.g. plotting $\\rho_{g_1g_1}$) into one plot to see what the averaging does."
   ]
  },
  {
   "cell_type": "markdown",
   "metadata": {},
   "source": [
    "### Exercise 3 (30 points)\n",
    "\n",
    "Study the dependence on the time step and the number of trajectories systematically. For the \"Standard EIT\" case, calculate at least 1000 trajectories for different time steps ranging e.g. from 0.5 to 0.001. Plot the deviation between the full master equation solution and the trajectory average as a function of the time step and also as a function of the number of trajectories. We expect to see power law decay so it makes sense to choose logarithmically spaced grids (and plot double logarithmically). To quantify the deviation, use the mean absolute deviation of the populations at t=4. One expects the error to decrease linearly with the time step and as 1/sqrt of the number of trajectories."
   ]
  },
  {
   "cell_type": "markdown",
   "metadata": {},
   "source": [
    "Optional: Different trajectories can be calculated independently form each other so this problem cries for parallelization.\n",
    "Python offers a multiprocessing module for this, see e.g. https://sebastianraschka.com/Articles/2014_multiprocessing.html.\n",
    "Try to speed up your simulations by using multiples cores. The even more powerful option would be to run these simulations on graphic cards, which offer the possibility of massive parallelization.\n"
   ]
  },
  {
   "cell_type": "code",
   "execution_count": null,
   "metadata": {
    "collapsed": true
   },
   "outputs": [],
   "source": []
  }
 ],
 "metadata": {
  "kernelspec": {
   "display_name": "Python 3",
   "language": "python",
   "name": "python3"
  },
  "language_info": {
   "codemirror_mode": {
    "name": "ipython",
    "version": 3
   },
   "file_extension": ".py",
   "mimetype": "text/x-python",
   "name": "python",
   "nbconvert_exporter": "python",
   "pygments_lexer": "ipython3",
   "version": "3.6.0"
  }
 },
 "nbformat": 4,
 "nbformat_minor": 2
}
