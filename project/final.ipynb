{
 "cells": [
  {
   "cell_type": "markdown",
   "metadata": {},
   "source": [
    "# Dissociation dynamics of H$_2^+$ in XUV and IR laser fields\n",
    "by Tobias Becher, Lukas Blecher"
   ]
  },
  {
   "cell_type": "code",
   "execution_count": null,
   "metadata": {},
   "outputs": [],
   "source": [
    "import matplotlib.pyplot as plt\n",
    "import numpy as np\n",
    "from numpy import linalg as LA\n",
    "import scipy.sparse as sp\n",
    "import scipy.sparse.linalg as sLA\n",
    "import time\n",
    "from matplotlib import animation\n",
    "from IPython.display import HTML\n",
    "import scipy.constants as const\n",
    "import scipy.fftpack as ft\n",
    "import pandas as pd"
   ]
  },
  {
   "cell_type": "code",
   "execution_count": null,
   "metadata": {},
   "outputs": [],
   "source": [
    "#load given data\n",
    "_,Vg=np.loadtxt('data/H2p_pot_gerade.dat',unpack=True)\n",
    "_,Vu=np.loadtxt('data/H2p_pot_ungerade.dat',unpack=True)\n",
    "xd,D=np.loadtxt('data/dipole_coupling.dat',unpack=True)\n",
    "_,Psi0=np.loadtxt('data/H2nuclwf.dat',unpack=True)\n",
    "#normalize Psi0\n",
    "Psi0=Psi0/LA.norm(Psi0)"
   ]
  },
  {
   "cell_type": "markdown",
   "metadata": {},
   "source": [
    "## 1. Vibrational eigenstates in the H$_2^+$ ground state potential"
   ]
  },
  {
   "cell_type": "code",
   "execution_count": null,
   "metadata": {},
   "outputs": [],
   "source": [
    "#reduced mass\n",
    "m=938.28/0.511/2\n",
    "L,npoints = 30,600\n",
    "dx=L/(npoints)\n",
    "xvals = np.linspace(dx,L,npoints)\n",
    "V=Vg[:npoints]\n",
    "#build Hamiltonian\n",
    "HDiag = np.ones(npoints)/dx**2/2/m\n",
    "Hofdiag = -0.5*np.ones(npoints-1)/dx**2/2/m\n",
    "Hsparse = sp.diags([Hofdiag, HDiag + V, Hofdiag],[-1,0,1])\n",
    "e, v = sLA.eigsh(Hsparse, k=25, which='SA')"
   ]
  },
  {
   "cell_type": "code",
   "execution_count": null,
   "metadata": {},
   "outputs": [],
   "source": [
    "#plot vibrational eigenstates\n",
    "plt.ylim(-.11,-.03640998)\n",
    "plt.xlim(1,4.5)\n",
    "for j in e:\n",
    "    plt.plot(xvals,j*np.ones(npoints),lw=.8,c='black',zorder=0)\n",
    "plt.plot(xvals,V)\n",
    "plt.fill_between(xvals,-1,V,color='white')\n",
    "plt.title('Vibrational eigenstates in atomic units')\n",
    "plt.xlabel('Radius')\n",
    "plt.ylabel('Energy')"
   ]
  },
  {
   "cell_type": "code",
   "execution_count": null,
   "metadata": {},
   "outputs": [],
   "source": [
    "df=pd.DataFrame(e,columns=['eigenenergies'])\n",
    "df.T"
   ]
  },
  {
   "cell_type": "markdown",
   "metadata": {},
   "source": [
    "## 2. Simulation of the wave packet propagation without the IR laser field"
   ]
  },
  {
   "cell_type": "code",
   "execution_count": null,
   "metadata": {},
   "outputs": [],
   "source": [
    "#write a class for a state and potential to perform a split step fourier method on\n",
    "class state:\n",
    "    def __init__(self,initial,V,npoints,L,m=1):\n",
    "        self.ini,self.Psi,self.V,self.V0,self.t,self.N,self.L,self.m=initial,initial,V,V,0,npoints,L,m\n",
    "\n",
    "    def evolution(self,tsteps,dt):\n",
    "        dx = self.L/self.N\n",
    "        xvals = np.linspace(-self.L/2,self.L/2,self.N,endpoint=False)\n",
    "        kvals = 2*np.pi*np.fft.fftfreq(self.N,d=dx)\n",
    "        # propagate the wave packet\n",
    "        tvec = np.linspace(0,tsteps*dt,tsteps+1) # will have length tsteps+1\n",
    "        # container for storing the result\n",
    "        psit = 0j*np.zeros((tsteps+1,self.N))\n",
    "        # store initial value\n",
    "        psit[0] = self.ini\n",
    "\n",
    "        for i in range(tsteps):\n",
    "            # apply potential\n",
    "            psi = np.exp(-1j*dt*self.V)*psit[i]\n",
    "            # go to Fourier space\n",
    "            psi = np.fft.fft(psi)\n",
    "            # apply kinetic part\n",
    "            psi = np.exp(-1j*dt*kvals**2/(2*self.m))*psi\n",
    "            # go back to real space\n",
    "            psi=np.fft.ifft(psi)\n",
    "            # store the result\n",
    "            psit[i+1] = psi\n",
    "        self.psit=psit\n",
    "    def get(self):\n",
    "        return self.Psi\n",
    "    def reset(self):\n",
    "        self.Psi=self.ini\n",
    "        self.t=0\n",
    "        self.V=self.V0"
   ]
  },
  {
   "cell_type": "code",
   "execution_count": null,
   "metadata": {},
   "outputs": [],
   "source": [
    "dx= np.mean(np.diff(xvals))\n",
    "k = 2*np.pi*ft.fftfreq(xvals.size,d = dx)\n",
    "dk = np.diff(k).mean()\n",
    "k0=0\n",
    "Ekin = k**2/(2*m)\n",
    "#initialize it\n",
    "Psi=state(Psi0[:npoints],Vg[:npoints],npoints,L,m)"
   ]
  },
  {
   "cell_type": "code",
   "execution_count": null,
   "metadata": {},
   "outputs": [],
   "source": [
    "dt,tsteps=1,1000\n",
    "Psi.reset()\n",
    "Psi.evolution(tsteps,dt)"
   ]
  },
  {
   "cell_type": "code",
   "execution_count": null,
   "metadata": {},
   "outputs": [],
   "source": [
    "fig, ax1 = plt.subplots()\n",
    "# add axis specifications\n",
    "line, = ax1.plot([],[],label='$|\\Psi(x)|^2$')\n",
    "plt.ylim(-.02,.15)\n",
    "plt.xlim(0,4.5)\n",
    "ax2=ax1.twinx()\n",
    "plt.ylim(-.11,0)\n",
    "linePot, = ax2.plot(xvals,V,color='black',lw=1,label='$V(x)$')\n",
    "plt.legend()\n",
    "plt.xlabel('x')\n",
    "#plt.ylabel('wave function')\n",
    "plt.title('Wave packet propagation without IR laser')\n",
    "lines, labels = ax1.get_legend_handles_labels()\n",
    "lines2, labels2 = ax2.get_legend_handles_labels()\n",
    "ax2.legend(lines + lines2, labels + labels2, loc=0)\n",
    "\n",
    "def animate(t):\n",
    "    print('%.1f%s'%(100*t/tsteps,'%'),end='\\r')\n",
    "    line.set_data(xvals,np.abs(Psi.psit[int(t)])**2)\n",
    "    return (line,)\n",
    "\n",
    "anim = animation.FuncAnimation(fig, animate,\n",
    "                               frames=np.arange(0,tsteps,1), # t-values\n",
    "                               interval=50, # wait time before displaying new frame in ms\n",
    "                               blit=True)\n",
    "#anim.save('propagation_without_IR-Laser.mp4')"
   ]
  },
  {
   "cell_type": "code",
   "execution_count": null,
   "metadata": {},
   "outputs": [],
   "source": [
    "HTML(anim.to_jshtml())"
   ]
  },
  {
   "cell_type": "markdown",
   "metadata": {},
   "source": [
    "## 3. Simulation of the dynamics of the time-dependent system with two coupled energy surfaces, coupled by the time-dependent IR laser field."
   ]
  },
  {
   "cell_type": "code",
   "execution_count": null,
   "metadata": {},
   "outputs": [],
   "source": [
    "#atomic units\n",
    "nm=1e-9/5.2917721092e-11\n",
    "fs=1e-15/2.418884326505e-17\n",
    "epsilon0=1/(4*np.pi*1.054571726e-34)\n",
    "c=137\n",
    "theta=0\n",
    "\n",
    "lam=760*nm\n",
    "I0=5.1e12\n",
    "w=c/lam*2*np.pi\n",
    "E0=np.sqrt(2*I0/8.854187817e-12/299792458)/5.14220652e11\n",
    "E=E0*np.cos(theta)\n",
    "sigfwhm=8.6*fs\n",
    "\n",
    "tau=0"
   ]
  },
  {
   "cell_type": "code",
   "execution_count": null,
   "metadata": {},
   "outputs": [],
   "source": [
    "def E_t(t,tau,sig=sigfwhm,E=E,w=w):\n",
    "     return E*np.cos(w*t)*np.exp(-(t-tau)**2/(2*sig**2))"
   ]
  },
  {
   "cell_type": "code",
   "execution_count": null,
   "metadata": {},
   "outputs": [],
   "source": [
    "#new version of the class so it can handle the special situation \n",
    "class state:\n",
    "    def __init__(self,initial1,initial2,Vg,Vu,D,Ekin,npoints,L,tau,m=1):\n",
    "        #initial state\n",
    "        self.ini1,self.ini2=initial1,initial2\n",
    "        #current state that is updated after advancing in time\n",
    "        self.Psi1,self.Psi2=initial1,initial2\n",
    "        #storage of all states visited over time\n",
    "        self.Psi1t,self.Psi2t=[initial1],[initial2]        \n",
    "        #save parameters\n",
    "        self.Ekin,self.Vg,self.Vu,self.D,self.t,self.N,self.L,self.m,self.tau=Ekin,Vg,Vu,D,0,npoints,L,m,tau\n",
    "        \n",
    "    def advance(self,dt):\n",
    "        #first potential step\n",
    "        Psi1 = np.exp(-1j*self.Vg*dt/2)*self.Psi1\n",
    "        Psi2 = np.exp(-1j*self.Vu*dt/2)*self.Psi2\n",
    "        \n",
    "        #applying unitary matrices\n",
    "        Psi1n = 1/np.sqrt(2)*(Psi1+Psi2)\n",
    "        Psi2n = 1/np.sqrt(2)*(Psi1-Psi2)\n",
    "        #time dependent potential step\n",
    "        Psi1 = np.exp(-1j*dt*self.D*E_t(self.t+dt/2,self.tau))*Psi1n\n",
    "        Psi2 = np.exp(1j*dt*self.D*E_t(self.t+dt/2,self.tau))*Psi2n\n",
    "        #unitary again\n",
    "        Psi1n = 1/np.sqrt(2)*(Psi1+Psi2)\n",
    "        Psi2n = 1/np.sqrt(2)*(Psi1-Psi2)\n",
    "        #final potential step\n",
    "        Psi1 = np.exp(-1j*self.Vg*dt/2)*Psi1n\n",
    "        Psi2 = np.exp(-1j*self.Vu*dt/2)*Psi2n\n",
    "        \n",
    "        Psi1 = np.fft.fft(Psi1)                    # Fourier transform\n",
    "        Psi2 = np.fft.fft(Psi2)\n",
    "        Psi1k = np.exp(-1j*self.Ekin*dt)*Psi1      # advance in Fourier space\n",
    "        Psi2k = np.exp(-1j*self.Ekin*dt)*Psi2 \n",
    "        self.Psi1 = np.fft.ifft(Psi1k)             # return to real space\n",
    "        self.Psi2 = np.fft.ifft(Psi2k)\n",
    "        self.Psi1t.append(self.Psi1)\n",
    "        self.Psi2t.append(self.Psi2)\n",
    "        self.t+=dt\n",
    "        \n",
    "    def get(self):\n",
    "        return self.Psi1,self.Psi2\n",
    "    \n",
    "    def reset(self):\n",
    "        self.Psi1=self.ini1\n",
    "        self.Psi2=self.ini2\n",
    "        self.Psi1t=self.Psi2t=[]\n",
    "        self.t=0"
   ]
  },
  {
   "cell_type": "code",
   "execution_count": null,
   "metadata": {},
   "outputs": [],
   "source": [
    "#work out kinetic energy\n",
    "x = xd[1:-1] #only linear part\n",
    "dx= np.mean(np.diff(x))\n",
    "k = 2*np.pi*ft.fftfreq(x.size,d = dx)\n",
    "dk = np.diff(k).mean()\n",
    "Ekin = k**2/(2*m)"
   ]
  },
  {
   "cell_type": "code",
   "execution_count": null,
   "metadata": {},
   "outputs": [],
   "source": [
    "#initialize the state\n",
    "a,b=5,200\n",
    "Psi=state(Psi0[a:b],np.zeros(b-a),Vg[a:b],Vu[a:b],D[1:-1],Ekin,b-a,tau,m)"
   ]
  },
  {
   "cell_type": "code",
   "execution_count": null,
   "metadata": {},
   "outputs": [],
   "source": [
    "#time evolution\n",
    "dt,tsteps=5,120\n",
    "Psi.reset()\n",
    "Psit1=[]\n",
    "Psit2=[]\n",
    "for t in np.arange(0,dt*tsteps,dt):\n",
    "    Psi.advance(dt)\n",
    "    Psi1,Psi2=Psi.get()\n",
    "    Psit1.append(Psi1)\n",
    "    Psit2.append(Psi2)"
   ]
  },
  {
   "cell_type": "code",
   "execution_count": null,
   "metadata": {},
   "outputs": [],
   "source": [
    "fig, ax = plt.subplots()\n",
    "ax.set_xlim(( 0.05,6))\n",
    "ax.set_ylim((-.02,.15))\n",
    "ax.set_xlabel(\"x\")\n",
    "ax.set_ylabel(\"$|\\Psi(x,t)|^2$\")\n",
    "line1, = ax.plot([],[])\n",
    "ax.plot([],[])\n",
    "ax2=ax.twinx()\n",
    "ax2.set_ylim((-.02*1.3e-6/.15,1.3e-6))\n",
    "ax2.ticklabel_format(style='sci', axis='y', scilimits=(0,0))\n",
    "line2, = ax2.plot([],[],color='orange',zorder=0)\n",
    "#plt.gca().legend((\"$|\\Psi_1(x,t)|^2$\",\"$|\\Psi_2(x,t)|^2$\"))\n",
    "def animate(t):\n",
    "    line1.set_data(x, np.abs(Psit1[t])**2)\n",
    "    line2.set_data(x, np.abs(Psit2[t])**2)\n",
    "    ax.text(0.1,.14,'t=%.2ffs'%(dt*t/fs),ha='left',bbox=dict(facecolor='white', alpha=1 ,lw=0))\n",
    "    return (line1,)\n",
    "\n",
    "anim = animation.FuncAnimation(fig, animate,\n",
    "                               frames=np.arange(0,tsteps,1), # t-values\n",
    "                               interval=50, # wait time before displaying new frame in ms\n",
    "                               blit=True)\n",
    "\n",
    "HTML(anim.to_jshtml())"
   ]
  },
  {
   "cell_type": "code",
   "execution_count": null,
   "metadata": {},
   "outputs": [],
   "source": []
  }
 ],
 "metadata": {
  "kernelspec": {
   "display_name": "Python 3",
   "language": "python",
   "name": "python3"
  },
  "language_info": {
   "codemirror_mode": {
    "name": "ipython",
    "version": 3
   },
   "file_extension": ".py",
   "mimetype": "text/x-python",
   "name": "python",
   "nbconvert_exporter": "python",
   "pygments_lexer": "ipython3",
   "version": "3.7.1"
  }
 },
 "nbformat": 4,
 "nbformat_minor": 2
}
