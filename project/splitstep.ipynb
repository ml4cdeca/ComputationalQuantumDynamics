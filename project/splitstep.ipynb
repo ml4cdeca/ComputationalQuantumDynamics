{
 "cells": [
  {
   "cell_type": "code",
   "execution_count": 1,
   "metadata": {},
   "outputs": [],
   "source": [
    "import matplotlib.pyplot as plt\n",
    "import numpy as np\n",
    "import scipy.constants as const\n",
    "import scipy.fftpack as ft\n",
    "from numpy import linalg as LA\n",
    "import time\n",
    "from matplotlib import animation\n",
    "from IPython.display import HTML"
   ]
  },
  {
   "cell_type": "code",
   "execution_count": 2,
   "metadata": {},
   "outputs": [],
   "source": [
    "class state:\n",
    "    def __init__(self,initial,V,Ekin):\n",
    "        self.ini=initial\n",
    "        self.Psi=initial\n",
    "        self.V=V\n",
    "        self.Ekin=Ekin\n",
    "    def advance(self,dt):\n",
    "        Psi = np.exp(-1j*self.V*dt)*self.Psi        # advance in real-space\n",
    "        Psik = ft.fftshift(ft.fft(self.Psi))           # Fourier transform\n",
    "        Psik = np.exp(-1j*self.Ekin*dt)*Psik      # advance in Fourier space\n",
    "        self.Psi = ft.ifft(ft.fftshift(Psik))          # return to real space\n",
    "    def get(self):\n",
    "        return self.Psi\n",
    "    def reset(self):\n",
    "        self.Psi=self.ini"
   ]
  },
  {
   "cell_type": "code",
   "execution_count": 3,
   "metadata": {},
   "outputs": [],
   "source": [
    "hbar = 1\n",
    "m = 938.28/0.511/2\n",
    "\n",
    "L = 30\n",
    "Ngrid = 600\n",
    "#x space\n",
    "dx = L/(Ngrid)\n",
    "x = np.linspace(dx,L,Ngrid)\n",
    "\n",
    "#k space\n",
    "k = ft.fftfreq(x.size,d = dx)\n",
    "k = 2*np.pi*ft.fftshift(k)\n",
    "dk = np.diff(k).mean()\n",
    "k0=0\n",
    "# define potential (in real space) and kinetic energy (in k-space)\n",
    "\n",
    "## potential well with high walls\n",
    "_,Vpot=np.loadtxt('data/H2p_pot_gerade.dat',unpack=True)\n",
    "\n",
    "Ekin = hbar**2*k**2/(2*m)\n",
    "\n",
    "_,Psi = np.loadtxt('data/H2nuclwf.dat',unpack=True)\n",
    "Psi = Psi/np.sqrt(np.sum(np.abs(Psi)**2))\n",
    "Psik = ft.fftshift(ft.fft(Psi))\n",
    "Psik = np.roll(Psik,np.int(np.round(k0/dk)))\n",
    "Psi = ft.ifft(ft.fftshift(Psik))\n",
    "\n",
    "Psi=state(Psi[:Ngrid],Vpot[:Ngrid],Ekin)\n",
    "dt=5e-1"
   ]
  },
  {
   "cell_type": "code",
   "execution_count": null,
   "metadata": {},
   "outputs": [],
   "source": [
    "fig, ax = plt.subplots()\n",
    "# add axis specifications\n",
    "line, = ax.plot([],[],label='real part')\n",
    "\n",
    "plt.ylim(-.1,.5)\n",
    "plt.xlim(0,4.5)\n",
    "plt.legend()\n",
    "plt.xlabel('x')\n",
    "#plt.ylabel('wave function')\n",
    "plt.title('Wave packet propagation without IR laser')\n",
    "Psi.reset()\n",
    "def animate(t):\n",
    "    # assign current wave function to y\n",
    "    # x is gloabaly defined\n",
    "    Psi.advance(dt)\n",
    "    line.set_data(x,np.real(Psi.get()))\n",
    "    return (line,)\n",
    "\n",
    "anim = animation.FuncAnimation(fig, animate,\n",
    "                               frames=np.arange(0,200,dt), # t-values\n",
    "                               interval=50, # wait time before displaying new frame in ms\n",
    "                               blit=True)\n",
    "anim.save('propagation.mp4')\n",
    "HTML(anim.to_jshtml())"
   ]
  },
  {
   "cell_type": "code",
   "execution_count": null,
   "metadata": {},
   "outputs": [],
   "source": []
  }
 ],
 "metadata": {
  "kernelspec": {
   "display_name": "Python 3",
   "language": "python",
   "name": "python3"
  },
  "language_info": {
   "codemirror_mode": {
    "name": "ipython",
    "version": 3
   },
   "file_extension": ".py",
   "mimetype": "text/x-python",
   "name": "python",
   "nbconvert_exporter": "python",
   "pygments_lexer": "ipython3",
   "version": "3.7.1"
  }
 },
 "nbformat": 4,
 "nbformat_minor": 2
}
