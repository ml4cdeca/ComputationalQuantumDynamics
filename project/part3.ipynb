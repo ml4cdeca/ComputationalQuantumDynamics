{
 "cells": [
  {
   "cell_type": "code",
   "execution_count": null,
   "metadata": {},
   "outputs": [],
   "source": [
    "import matplotlib.pyplot as plt\n",
    "import numpy as np\n",
    "from numpy import linalg as LA\n",
    "import time\n",
    "from matplotlib import animation\n",
    "from IPython.display import HTML\n",
    "import scipy.constants as const\n",
    "import scipy.fftpack as ft"
   ]
  },
  {
   "cell_type": "markdown",
   "metadata": {},
   "source": [
    "Following J. Chem. Phys. 99, 1185 (1993); https://doi.org/10.1063/1.465362\n",
    "$$i\\frac d{dt}\\left(\\begin{array}{cc}\\Psi_1(t)\\\\ \\Psi_2(t)\\end{array}\\right) =\n",
    "\\left(\\begin{array}{cc} \n",
    "\\frac{\\hat p^2}{2μ} + V_g & −D × E(t)\\\\ \n",
    "−D × E(t) & \\frac{\\hat p^2}{2μ} + V_u\n",
    "\\end{array}\\right)\n",
    "\\left(\\begin{array}{cc}\\Psi_1(t)\\\\ \\Psi_2(t)\\end{array}\\right)$$\n",
    "using\n",
    "$$\\mathbf T=-\\frac{\\hbar^2}{2\\mu}\\left(\\begin{array}{cc} 1/\\text{d}x^2&0\\\\0&  1/\\text{d}x^2\\end{array}\\right)$$\n",
    "$$\\mathbf V(t)=\\left(\\begin{array}{cc}V_g & −D × E(t)\\\\ \n",
    "−D × E(t) & V_u\n",
    "\\end{array}\\right)$$\n",
    "We get for a time step $\\Delta t$:\n",
    "$$\\Psi(t+\\Delta t) = \\text{exp}\\left[\\Delta t \\mathbf T+\\Delta t \\mathbf V(t+\\Delta t/2)\\right]\\Psi(t)+\\mathcal O(\\Delta t^3)$$"
   ]
  },
  {
   "cell_type": "code",
   "execution_count": null,
   "metadata": {},
   "outputs": [],
   "source": [
    "m = 938.28/0.511/2\n",
    "L = 30\n",
    "Ngrid = 600\n",
    "#x space\n",
    "dx = L/(Ngrid)\n",
    "x = np.linspace(dx,L,Ngrid)\n",
    "_,Vg=np.loadtxt('data/H2p_pot_gerade.dat',unpack=True)\n",
    "_,Vu=np.loadtxt('data/H2p_pot_ungerade.dat',unpack=True)\n",
    "_,D=np.loadtxt('data/dipole_coupling.dat',unpack=True)\n",
    "_,Psi0=np.loadtxt('data/H2nuclwf.dat',unpack=True)"
   ]
  },
  {
   "cell_type": "markdown",
   "metadata": {},
   "source": [
    "the following functions calculate $\\text{exp}\\left[\\lambda \\mathbf T\\right]$ and $\\text{exp}\\left[\\lambda \\mathbf V(t)\\right]$"
   ]
  },
  {
   "cell_type": "code",
   "execution_count": null,
   "metadata": {},
   "outputs": [],
   "source": [
    "#using fft techniques\n",
    "def expDiag(lam,M):\n",
    "    \n",
    "def expV(lam,V):\n",
    "    V1,V2=V.copy(),V.copy()\n",
    "    V1[0,1]=V1[1,0]=V2[0,0]=V2[1,1]=0\n",
    "    eV1=expDiag(lam/2,V1)\n",
    "    "
   ]
  },
  {
   "cell_type": "code",
   "execution_count": null,
   "metadata": {},
   "outputs": [],
   "source": [
    "a=np.array([[0,1],\n",
    "            [1,0]])\n",
    "v,w=np.linalg.eig(a)"
   ]
  },
  {
   "cell_type": "code",
   "execution_count": null,
   "metadata": {},
   "outputs": [],
   "source": [
    "w@np.diag(v)@w.T"
   ]
  },
  {
   "cell_type": "code",
   "execution_count": null,
   "metadata": {},
   "outputs": [],
   "source": [
    "#Daten aus Paper genommen(seite 4)"
   ]
  },
  {
   "cell_type": "code",
   "execution_count": null,
   "metadata": {},
   "outputs": [],
   "source": [
    "#atomic units\n",
    "nm=1e-9/5.2917721092e-11\n",
    "fs=1e-15/2.418884326505e-17\n",
    "epsilon0=1/(4*np.pi*1.054571726e-34)\n",
    "c=137\n",
    "theta=0"
   ]
  },
  {
   "cell_type": "code",
   "execution_count": null,
   "metadata": {},
   "outputs": [],
   "source": [
    "lam=760*nm\n",
    "I0=5.1e12\n",
    "w=c/lam*2*np.pi\n",
    "E0=np.sqrt(2*I0/8.854187817e-12/299792458)/5.14220652e11\n",
    "E=E0*np.cos(theta)\n",
    "sigfwhm=8.6*fs"
   ]
  },
  {
   "cell_type": "code",
   "execution_count": null,
   "metadata": {},
   "outputs": [],
   "source": [
    "def DE(t,tau,sig=sigfwhm,E0=E0,w=w):\n",
    "     return E0*np.cos(w*t)*np.exp((t-tau)/2*sig**2)"
   ]
  },
  {
   "cell_type": "code",
   "execution_count": null,
   "metadata": {},
   "outputs": [],
   "source": [
    "def DE(t,tau):\n",
    "    raise\n",
    "    return np.zeros(600)"
   ]
  },
  {
   "cell_type": "code",
   "execution_count": null,
   "metadata": {},
   "outputs": [],
   "source": [
    "class state:\n",
    "    def __init__(self,initial1,initial2,Vg,Vu,D,Ekin,npoints,L,tau,m=1):\n",
    "        #initial state\n",
    "        self.ini1=initial1\n",
    "        self.ini2=initial2\n",
    "        #current state that is updated after advancing in time\n",
    "        self.Psi1=initial1\n",
    "        self.Psi2=initial2\n",
    "        #storage of all states visited\n",
    "        self.Psi1t=[initial1]\n",
    "        self.Psi2t=[initial2]\n",
    "        self.Ekin=Ekin\n",
    "        self.Vg=Vg\n",
    "        self.Vu=Vu\n",
    "        self.D=D\n",
    "        self.t=0\n",
    "        self.N=npoints\n",
    "        self.L=L\n",
    "        self.m=m\n",
    "        self.tau=tau\n",
    "    def advance(self,dt):\n",
    "        #raise\n",
    "        #first potential step\n",
    "        Psi1 = np.exp(-1j*self.Vg*dt/2)*self.Psi1\n",
    "        Psi2 = np.exp(-1j*self.Vu*dt/2)*self.Psi2\n",
    "        \n",
    "        #applying unitary matrices\n",
    "        Psi1n = 1/np.sqrt(2)*(Psi1+Psi2)\n",
    "        Psi2n = 1/np.sqrt(2)*(Psi1-Psi2)\n",
    "        #time dependent potential step\n",
    "        Psi1 = np.exp(-1j*dt*self.D*DE(self.t+dt/2,self.tau))*Psi1n\n",
    "        Psi2 = np.exp(1j*dt*self.D*DE(self.t+dt/2,self.tau))*Psi2n\n",
    "        #unitary again\n",
    "        Psi1n = 1/np.sqrt(2)*(Psi1+Psi2)\n",
    "        Psi2n = 1/np.sqrt(2)*(Psi1-Psi2)\n",
    "        #final potential step\n",
    "        Psi1 = np.exp(-1j*self.Vg*dt/2)*Psi1n\n",
    "        Psi2 = np.exp(-1j*self.Vu*dt/2)*Psi2n\n",
    "        \n",
    "        Psi1 = np.fft.fft(Psi1)          # Fourier transform\n",
    "        Psi2 = np.fft.fft(Psi2)\n",
    "        Psi1k = np.exp(-1j*self.Ekin*dt)*Psi1      # advance in Fourier space\n",
    "        Psi2k = np.exp(-1j*self.Ekin*dt)*Psi2 \n",
    "        self.Psi1 = np.fft.ifft(Psi1k)          # return to real space\n",
    "        self.Psi2 = np.fft.ifft(Psi2k)\n",
    "        self.t+=dt\n",
    "    def evolution(self,tsteps,dt):\n",
    "        dx = self.L/self.N\n",
    "        xvals = np.linspace(-self.L/2,self.L/2,self.N,endpoint=False)\n",
    "        kvals = 2*np.pi*np.fft.fftfreq(self.N,d=dx)\n",
    "        # propagate the wave packet\n",
    "        tvec = np.linspace(0,tsteps*dt,tsteps+1) # will have length tsteps+1\n",
    "        # container for storing the result\n",
    "        psit = 0j*np.zeros((tsteps+1,self.N))\n",
    "        # store initial value\n",
    "        psit[0] = self.ini\n",
    "\n",
    "        for i in range(tsteps):\n",
    "            # apply potential\n",
    "            psi = np.exp(-1j*dt*self.V)*psit[i]\n",
    "            # go to Fourier space\n",
    "            psi = np.fft.fft(psi)\n",
    "            # apply kinetic part\n",
    "            psi = np.exp(-1j*dt*kvals**2/(2*self.m))*psi\n",
    "            # go back to real space\n",
    "            psi=np.fft.ifft(psi)\n",
    "            # store the result\n",
    "            psit[i+1] = psi\n",
    "        self.psit=psit\n",
    "    def get(self):\n",
    "        return self.Psi1,self.Psi2\n",
    "    \n",
    "    def reset(self):\n",
    "        self.Psi1=self.ini1\n",
    "        self.Psi2=self.ini2\n",
    "        self.t=0\n",
    "        #self.V=self.V0"
   ]
  },
  {
   "cell_type": "code",
   "execution_count": null,
   "metadata": {},
   "outputs": [],
   "source": [
    "m = 938.28/0.511/2\n",
    "L = 30\n",
    "Ngrid = 600\n",
    "tau=0\n",
    "\n",
    "_,Vg=np.loadtxt('data/H2p_pot_gerade.dat',unpack=True)\n",
    "_,Vu=np.loadtxt('data/H2p_pot_ungerade.dat',unpack=True)\n",
    "xd,D=np.loadtxt('data/dipole_coupling.dat',unpack=True)\n",
    "_,Psi0=np.loadtxt('data/H2nuclwf.dat',unpack=True)\n",
    "Psii=Psi0/np.linalg.norm(Psi0)\n",
    "\n",
    "#x space\n",
    "#dx = 5e-2#L/(Ngrid)\n",
    "x = xd[1:-1]#np.linspace(dx,L,Ngrid)\n",
    "dx= np.mean(np.diff(x))\n",
    "k = 2*np.pi*ft.fftfreq(x.size,d = dx)\n",
    "#k = ft.fftshift(k)\n",
    "dk = np.diff(k).mean()\n",
    "k0=0\n",
    "Ekin = k**2/(2*m)"
   ]
  },
  {
   "cell_type": "code",
   "execution_count": null,
   "metadata": {},
   "outputs": [],
   "source": [
    "#    def __init__(self,initial1,initial2,V,npoints,L,tau,m=1):\n",
    "Psi=state(Psii[5:200],np.zeros(195),Vg[5:200],Vu[5:200],D[1:-1],Ekin,195,tau,m)"
   ]
  },
  {
   "cell_type": "code",
   "execution_count": null,
   "metadata": {},
   "outputs": [],
   "source": [
    "plt.plot(x,Psi.get()[0])"
   ]
  },
  {
   "cell_type": "code",
   "execution_count": null,
   "metadata": {},
   "outputs": [],
   "source": [
    "dt,tsteps=1.5e0,500\n",
    "\n",
    "#Psi.evolution(tsteps,dt)"
   ]
  },
  {
   "cell_type": "code",
   "execution_count": null,
   "metadata": {},
   "outputs": [],
   "source": [
    "Psi.reset()\n",
    "Psit1=[]\n",
    "Psit2=[]\n",
    "for t in np.arange(0,dt*tsteps,dt):\n",
    "    #print(t)\n",
    "    Psi.advance(dt)\n",
    "    Psi1,Psi2=Psi.get()\n",
    "    Psit1.append(Psi1)\n",
    "    Psit2.append(Psi2)\n"
   ]
  },
  {
   "cell_type": "code",
   "execution_count": null,
   "metadata": {},
   "outputs": [],
   "source": [
    "fig, ax = plt.subplots()\n",
    "ax.set_xlim(( 0,4.5))\n",
    "ax.set_ylim((-.02,.15))\n",
    "ax.set_xlabel(\"x\")\n",
    "ax.set_ylabel(\"$|\\psi(x,t)|^2$\")\n",
    "line, = ax.plot([],[])\n",
    "\n",
    "def animate(it):\n",
    "    y = np.abs(Psit1[it])**2\n",
    "    line.set_data(x, y)\n",
    "    return (line,)\n",
    "\n",
    "anim = animation.FuncAnimation(fig, animate,\n",
    "                               frames=np.arange(0,tsteps,1), # t-values\n",
    "                               interval=50, # wait time before displaying new frame in ms\n",
    "                               blit=True)\n",
    "\n",
    "HTML(anim.to_jshtml())"
   ]
  },
  {
   "cell_type": "code",
   "execution_count": null,
   "metadata": {},
   "outputs": [],
   "source": [
    "np.mean(Psit2)"
   ]
  },
  {
   "cell_type": "code",
   "execution_count": null,
   "metadata": {},
   "outputs": [],
   "source": []
  }
 ],
 "metadata": {
  "kernelspec": {
   "display_name": "Python 3",
   "language": "python",
   "name": "python3"
  },
  "language_info": {
   "codemirror_mode": {
    "name": "ipython",
    "version": 3
   },
   "file_extension": ".py",
   "mimetype": "text/x-python",
   "name": "python",
   "nbconvert_exporter": "python",
   "pygments_lexer": "ipython3",
   "version": "3.7.1"
  }
 },
 "nbformat": 4,
 "nbformat_minor": 2
}
