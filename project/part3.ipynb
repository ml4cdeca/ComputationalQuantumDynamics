{
 "cells": [
  {
   "cell_type": "code",
   "execution_count": 1,
   "metadata": {},
   "outputs": [],
   "source": [
    "import matplotlib.pyplot as plt\n",
    "import numpy as np\n",
    "from numpy import linalg as LA\n",
    "import time\n",
    "from matplotlib import animation\n",
    "from IPython.display import HTML"
   ]
  },
  {
   "cell_type": "markdown",
   "metadata": {},
   "source": [
    "Following J. Chem. Phys. 99, 1185 (1993); https://doi.org/10.1063/1.465362\n",
    "$$i\\frac d{dt}\\left(\\begin{array}{cc}\\Psi_1(t)\\\\ \\Psi_2(t)\\end{array}\\right) =\n",
    "\\left(\\begin{array}{cc} \n",
    "\\frac{\\hat p^2}{2μ} + V_g & −D × E(t)\\\\ \n",
    "−D × E(t) & \\frac{\\hat p^2}{2μ} + V_u\n",
    "\\end{array}\\right)\n",
    "\\left(\\begin{array}{cc}\\Psi_1(t)\\\\ \\Psi_2(t)\\end{array}\\right)$$\n",
    "using\n",
    "$$\\mathbf T=-\\frac{\\hbar^2}{2\\mu}\\left(\\begin{array}{cc} 1/\\text{d}x^2&0\\\\0&  1/\\text{d}x^2\\end{array}\\right)$$\n",
    "$$\\mathbf V(t)=\\left(\\begin{array}{cc}V_g & −D × E(t)\\\\ \n",
    "−D × E(t) & V_u\n",
    "\\end{array}\\right)$$\n",
    "We get for a time step $\\Delta t$:\n",
    "$$\\Psi(t+\\Delta t) = \\text{exp}\\left[\\Delta t \\mathbf T+\\Delta t \\mathbf V(t+\\Delta t/2)\\right]\\Psi(t)+\\mathcal O(\\Delta t^3)$$"
   ]
  },
  {
   "cell_type": "code",
   "execution_count": 3,
   "metadata": {},
   "outputs": [],
   "source": [
    "m = 938.28/0.511/2\n",
    "L = 30\n",
    "Ngrid = 600\n",
    "#x space\n",
    "dx = L/(Ngrid)\n",
    "x = np.linspace(dx,L,Ngrid)\n",
    "_,Vg=np.loadtxt('data/H2p_pot_gerade.dat',unpack=True)\n",
    "_,Vu=np.loadtxt('data/H2p_pot_ungerade.dat',unpack=True)\n",
    "_,D=np.loadtxt('data/dipole_coupling.dat',unpack=True)\n",
    "_,Psi0=np.loadtxt('data/H2nuclwf.dat',unpack=True)"
   ]
  },
  {
   "cell_type": "markdown",
   "metadata": {},
   "source": [
    "the following functions calculate $\\text{exp}\\left[\\lambda \\mathbf T\\right]$ and $\\text{exp}\\left[\\lambda \\mathbf V(t)\\right]$"
   ]
  },
  {
   "cell_type": "code",
   "execution_count": null,
   "metadata": {},
   "outputs": [],
   "source": [
    "#using fft techniques\n",
    "def expDiag(lam,M):\n",
    "    \n",
    "def expV(lam,V):\n",
    "    V1,V2=V.copy(),V.copy()\n",
    "    V1[0,1]=V1[1,0]=V2[0,0]=V2[1,1]=0\n",
    "    eV1=expDiag(lam/2,V1)\n",
    "    "
   ]
  },
  {
   "cell_type": "code",
   "execution_count": 22,
   "metadata": {},
   "outputs": [],
   "source": [
    "a=np.array([[0,1],\n",
    "            [1,0]])\n",
    "v,w=np.linalg.eig(a)"
   ]
  },
  {
   "cell_type": "code",
   "execution_count": 28,
   "metadata": {},
   "outputs": [
    {
     "data": {
      "text/plain": [
       "array([[0., 1.],\n",
       "       [1., 0.]])"
      ]
     },
     "execution_count": 28,
     "metadata": {},
     "output_type": "execute_result"
    }
   ],
   "source": [
    "w@np.diag(v)@w.T"
   ]
  },
  {
   "cell_type": "code",
   "execution_count": null,
   "metadata": {},
   "outputs": [],
   "source": []
  }
 ],
 "metadata": {
  "kernelspec": {
   "display_name": "Python 3",
   "language": "python",
   "name": "python3"
  },
  "language_info": {
   "codemirror_mode": {
    "name": "ipython",
    "version": 3
   },
   "file_extension": ".py",
   "mimetype": "text/x-python",
   "name": "python",
   "nbconvert_exporter": "python",
   "pygments_lexer": "ipython3",
   "version": "3.7.1"
  }
 },
 "nbformat": 4,
 "nbformat_minor": 2
}
