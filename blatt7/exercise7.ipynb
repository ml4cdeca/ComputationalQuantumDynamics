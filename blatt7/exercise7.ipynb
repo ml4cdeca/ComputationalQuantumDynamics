{
 "cells": [
  {
   "cell_type": "markdown",
   "metadata": {},
   "source": [
    "# Programming exercise 7: Entanglement and the transverse field Ising model\n",
    "\n",
    "Due on Monday, 10.12.2018, 14.15h\n",
    "\n",
    "### Total: 100 points"
   ]
  },
  {
   "cell_type": "code",
   "execution_count": 1,
   "metadata": {
    "collapsed": true
   },
   "outputs": [],
   "source": [
    "# load standard libraries\n",
    "\n",
    "import numpy as np   # standard numerics library\n",
    "import numpy.linalg as LA\n",
    "\n",
    "import matplotlib.pyplot as plt   # for making plots\n",
    "\n",
    "import time as time\n",
    "\n",
    "import scipy.sparse as sp\n",
    "import scipy.sparse.linalg as sLA\n",
    "\n",
    "from numpy import (array, pi, cos, sin, ones, size, sqrt, real, mod, append, arange)\n",
    "\n",
    "#from qutip import (tensor, basis) \n",
    "\n",
    "%matplotlib inline"
   ]
  },
  {
   "cell_type": "markdown",
   "metadata": {},
   "source": [
    "### Exercise 1: Building general spin 1/2 Hamiltonians (50 points)\n",
    "\n",
    "In the past exercises we have worked with the collective Ising model, where we could use the permutation symmetry to reduce the Hilbert space dimension from $2^N$ to $N+1$. This time we want to consider a model with nearest neighbor spin interactions, the one-dimensional transverse-field Ising model (TFIM), where the permutation symmetry no longer holds. This model is analytically solvable (see e.g. https://www.sciencedirect.com/science/article/pii/0003491670902708). For the sake of learning how to build general spin models, we will solve it here by numerical means and compare the result to the exact solution as a check. The tools you develop here, you can then apply to build any spin Hamiltonian straight forwardly. The Hamiltonian of the TFIM reads\n",
    "$$\n",
    "H=\\sum_{i=0}^{N-1} -J\\sigma_z^{(i)}\\sigma_z^{(i+1)} - B \\sigma_x^{(i)}\n",
    "$$\n",
    "where we want to use __periodic boundary conditions__, i.e. the Nth spin is identified with the 0th spin.\n",
    "\n",
    "To solve it we first set up a framework for general spin 1/2 models.\n",
    "We will work in the canonical product basis of states $|i_1,...,i_N\\rangle$, where $i_k \\in \\{0,1\\}$. This basis of course has the problem of exponential scaling of the number of basis states with particle number N. But we still want to use it to keep our approach as general as possible, which then just allows us to use up to 12 or so spins with reasonable computation time.\n",
    "\n",
    "The recipe for conctructing general spin models is the following:\n",
    "\n",
    "1) Build the single-spin operators $s_x$, $s_y$, $s_z$, and the 2x2 identity, $\\mathbb{1}$ as sparse matrices (csr_matrix should work best).\n",
    "\n",
    "2) Build a list of all single-spin operators acting on spin $i=0...N-1$ in the $N$-spin Hilbert space.\n",
    "$$\n",
    "s_\\alpha^{(i)} = \\mathbb{1}^{\\otimes i}\\otimes s_\\alpha \\otimes \\mathbb{1}^{\\otimes (N-i-1)}\n",
    "$$\n",
    "where $\\alpha \\in \\{x,y,z\\}$. Use the kronecker product for sparse matrices to do this. (Make sure you understand how the indexing/ordering of the matrix elements is done by kron()!)\n",
    "\n",
    "3) Build any hermititian operator (here we want the Hamiltonian) by adding up its individual terms, using the dot product for interaction terms.\n",
    "\n",
    "Test your implementation by calculating the ground state energy of the transverse field Ising model and comparing it to the analytical result (for even $N$)\n",
    "$$\n",
    "E_0^{analyt} = -\\sum_{k=-(N-1)/2}^{(N-1)/2}\\sqrt{1+B^2 - 2B\\cos(2\\pi k/N)}\n",
    "$$\n",
    "where the convention $J=1$ was chosen.\n",
    "For N=10, scan $B$ from 0 to 2 and plot the numerical and analytical result for the ground state energy.\n",
    "\n",
    "Also think about what the ground state should be at large $B$ and at $B=0$. "
   ]
  },
  {
   "cell_type": "code",
   "execution_count": 2,
   "metadata": {
    "collapsed": true
   },
   "outputs": [],
   "source": [
    "# 1)\n",
    "# spin matrices as sparse matrices\n",
    "s = [sp.csr_matrix(np.array([[0, 1]  ,[ 1, 0]])/2),    #sx\n",
    "     sp.csr_matrix(np.array([[0, -1j],[1j, 0]])/2),    #sy\n",
    "     sp.csr_matrix(np.array([[1, 0]  ,[0, -1]])/2)]    #sz\n",
    "one = sp.identity(2,format='csr') #sparse matrix of 2x2 identity\n",
    "\n",
    "# 2)\n",
    "#returns s_\\alpha^(i)\n",
    "def singleSpin(N,alpha,i):\n",
    "    result=s[alpha] if i==0 else one\n",
    "    for j in range(1,N):\n",
    "        result=sp.kron(result,s[alpha] if i==j else one)\n",
    "    return result\n",
    "# 3)\n",
    "#build the Hamiltonian\n",
    "def H(N,B,J=1):\n",
    "    Hmat=np.zeros((2**N,2**N))\n",
    "    for i in range(N):\n",
    "        Hmat+=-J*singleSpin(N,2,i)@singleSpin(N,2,i+1)-B*singleSpin(N,0,i)\n",
    "    return Hmat\n",
    "#ground state engergy of the transverse field Ising model:\n",
    "def E0_analyt(N,B):\n",
    "    if N%2==1:\n",
    "        raise ValueError('N needs to be even')\n",
    "    E=0\n",
    "    for k in range(int(-N/2+.5),int(N/2+.5)):\n",
    "        E+=sqrt(1+B**2-2*B*cos(2*pi*k/N))\n",
    "    return -E\n",
    "#numerical computation of the ground state energy\n",
    "def E0_numeric(N,B):\n",
    "    Hmat=H(N,B)\n",
    "    evals,evecs=sLA.eigs(Hmat,k=1,which='SR')\n",
    "    return evals[0].real"
   ]
  },
  {
   "cell_type": "code",
   "execution_count": 78,
   "metadata": {
    "collapsed": false
   },
   "outputs": [],
   "source": [
    "N=4\n",
    "BSpace=np.linspace(0,2,30)\n",
    "energy=np.zeros((len(BSpace),2)) #store all energies in this array\n",
    "for i in range(len(BSpace)):\n",
    "    B=BSpace[i]\n",
    "    energy[i,0]=E0_analyt(N,B)\n",
    "    energy[i,1]=E0_numeric(N,B)\n",
    "    "
   ]
  },
  {
   "cell_type": "code",
   "execution_count": 83,
   "metadata": {
    "collapsed": false
   },
   "outputs": [
    {
     "data": {
      "text/plain": [
       "<matplotlib.legend.Legend at 0x1e9bdd2c0b8>"
      ]
     },
     "execution_count": 83,
     "metadata": {},
     "output_type": "execute_result"
    },
    {
     "data": {
      "image/png": "[encoded data removed]",
      "text/plain": [
       "<Figure size 432x288 with 1 Axes>"
      ]
     },
     "metadata": {},
     "output_type": "display_data"
    }
   ],
   "source": [
    "plt.plot(BSpace,energy[:,0],label='analytical')\n",
    "plt.plot(BSpace,energy[:,1],label='numerical')\n",
    "plt.xlabel('B')\n",
    "plt.ylabel('$E_0$')\n",
    "plt.title('numerical and analytical ground state energy comparison')\n",
    "plt.legend()"
   ]
  },
  {
   "cell_type": "markdown",
   "metadata": {},
   "source": [
    "### Exercise 2: Taking partial traces (50 points)\n",
    "\n",
    "The TFIM has a quantum phase transition at $B/J=1$ from a ferromagnetic to a paramagnetic phase. You can use your code from exercise 1 to see that the gap is mimimal around this value. Note that the model also has the $Z_2$ symmetry (invariance under flipping of all spins) which we saw in the collective Ising model, so you would look at the gap of ground and second excited state.\n",
    "At the phase transition point, long-range correlations emerge in the ground state. An interesting feature is also that at the critical point the half-chain entanglement entropy diverges logarithmically as $N$ goes to infinity (see for example https://arxiv.org/abs/0803.3610 Fig. 3). For finite $N$ we should already see that the entanglement entropy becomes maximal approximately at the critical point.\n",
    "\n",
    "To calculate the half-chain entanglement entropy in the ground state of the transverse Ising chain, you should proceed as follows:\n",
    "\n",
    "1) Divide the chain into two halves and calculate the reduced state of one half, i.e., calculate the partial trace over the first or the last $N/2$ spins. The matrix element of the reduced density of a state $|\\psi\\rangle = \\sum_i c_i |i\\rangle$ (where $|i\\rangle$ are the $N$-spin basis states) traced over spins $N/2$ thorugh $N-1$, i.e. over the second half, can be expressed as\n",
    "$$\n",
    "(\\rho_{red,N/2})_{ij} = \\sum_{k=0}^{2^{N/2}-1} c_{i+k*2^{N/2}}c_{j+k*2^{N/2}}\n",
    "$$\n",
    "(This might look different depending on how the states are ordered in your basis.)\n",
    "\n",
    "2) Calculate the eigenvalues $p_i$ of $\\rho_{red,N/2}$, sort them from largest to smallest. This is the entanglement spectrum. The rank of $\\rho_{red,N/2}$ is called entanglement dimension. For a separable state the entanglement dimension is 1, i.e. only one eigenvalue is non-zero.\n",
    "\n",
    "3) Calculate the von-Neumann entanglement entropy $S_E = -\\sum_i p_i \\log(p_i)$. Consider that some of the eigenvalues can be zero. Due to the finite numerical precision they can even turn negative. These you want to exclude from the sum. (The limit $\\lim_{p\\rightarrow 0} p\\log(p) =0$ so we are not actually modifying the outcome significantly by neglecting small p's.)\n",
    "\n",
    "Test your code for some cases where you know the answer, for example a separable state or a Bell pair state of 2 qubits. The qutip module also has the capability of calculating partial traces. If you are interested you can compare to this for testing.\n",
    "\n",
    "Then calcualte the entanglement spectrum and entropy for the same parameter scan as in exercise 1. Document your observations."
   ]
  },
  {
   "cell_type": "code",
   "execution_count": 16,
   "metadata": {
    "collapsed": false
   },
   "outputs": [],
   "source": [
    "#1)\n",
    "#build reduced density matrix \\rho_red,N/2\n",
    "\n",
    "#get coefficient c_i\n",
    "def c(N,i):\n",
    "    return 1/np.sqrt(N)\n",
    "def rhoRedElement(N,i,j):\n",
    "    m=int(2**(N/2))\n",
    "    rho_ij=0\n",
    "    for k in range(m):\n",
    "        rho_ij+=c(N,i+k*m)*c(N,j+k*m)\n",
    "    return rho_ij\n",
    "#build the reduced density matrix\n",
    "def rhoRed(N):\n",
    "    return np.array([[rhoRedElement(N,i,j) for i in range(N)] for j in range(N)])\n",
    "    \n",
    "\n",
    "#2)\n",
    "#calculate eigenvalues and sort them:\n",
    "p=sorted(LA.eigvals(rhoRed(10)),reverse=True)\n",
    "\n",
    "\n",
    "#3)\n",
    "#von-Neumann entropy:\n",
    "def vonNeumann(p):\n",
    "    '''p: array-like with eigenvalues'''\n",
    "    #pop all zero elements from the eigenvalues array\n",
    "    p_arr=np.array(p)\n",
    "    S_Ei=p_arr[p_arr>2e-16] #float64 accuracy\n",
    "    return -np.sum(S_Ei*np.log(S_Ei))"
   ]
  },
  {
   "cell_type": "code",
   "execution_count": 17,
   "metadata": {
    "collapsed": false
   },
   "outputs": [
    {
     "data": {
      "text/plain": [
       "-110.90354888959135"
      ]
     },
     "execution_count": 17,
     "metadata": {},
     "output_type": "execute_result"
    }
   ],
   "source": [
    "vonNeumann(p)"
   ]
  },
  {
   "cell_type": "markdown",
   "metadata": {},
   "source": [
    "### Optional Exercise 3: Time-dependence of entanglement entropy\n",
    "\n",
    "Calculate the time-evolution for all spins being in the state $|+\\rangle = (|0\\rangle+|1\\rangle)/\\sqrt{2}$ initially.\n",
    "\n",
    "If you evolve this state with the critical Ising Hamiltonian, the enatnglement entropy should increase very rapidly in time and saturate due to the finite system size. The saturation value is extensive in system size (volume law). This makes simulating the time evolution for quenches near the critical point challenging for techniques based on matrix prduct states (next lecture). "
   ]
  },
  {
   "cell_type": "markdown",
   "metadata": {},
   "source": [
    "### Optional Exercise 4: Spin squeezing and entanglement\n",
    "\n",
    "Let us look at the collective Ising spin-model with a transverse field one last time. The Hamiltonian is still\n",
    "$$\n",
    "H=-\\frac{J}{N}S_z^2 - \\Omega S_x\n",
    "$$\n",
    "with the collective spin operators $S_\\alpha = \\sum_i \\sigma_i^\\alpha/2$, where $\\sigma_i^\\alpha$ is a Pauli operator acting on spin $i$. This time we want to examine how spin squeezed states form under the dynamics of this model. All we have to do is to initialize the system with all spins pointing along the x-direction, i.e. in the coehrent spin state $|CSS(\\pi/2,0)\\rangle$. For any small value of $\\Omega$ (we can actually choose $\\Omega=0$) we will observe spin squeezing.\n",
    "Plot the Husimi distribution of the state using the \"front view\" form programming exercise 6 and observe how it evolves with time. Evaluate $S_x$ and the variance in any direction perpendicular to $S_x$ by rotating the state about the x-axis and calculating the variance of $S_z$ to determine the direction of maximal squeezing.\n",
    "\n",
    "Calculate the optimal squeezing parameter $\\min_{\\mathbf{n}_\\perp} = N (\\Delta (\\mathbf{n}_\\perp\\cdot \\mathbf{S}))^2/\\langle S_x\\rangle^2$ as a function of time. Whay does it increase again after some time?\n",
    "\n",
    "Spin squeezing is associated with the buildup of entanglement. Calculate the entanglement entropy for the above time evolution. You can use the techniques from exercises 1 and 2 for this and solve the collective Ising model in the product basis, which of course allows you only to go to small numbers of spins, but the effects will still be visible. Note that one can also calculate the reduced density using symmetrized Dicke states (see https://arxiv.org/abs/cond-mat/0409611). You can implement this as a cross check and for going to larger N."
   ]
  },
  {
   "cell_type": "code",
   "execution_count": null,
   "metadata": {
    "collapsed": true
   },
   "outputs": [],
   "source": []
  }
 ],
 "metadata": {
  "kernelspec": {
   "display_name": "Python 3",
   "language": "python",
   "name": "python3"
  },
  "language_info": {
   "codemirror_mode": {
    "name": "ipython",
    "version": 3
   },
   "file_extension": ".py",
   "mimetype": "text/x-python",
   "name": "python",
   "nbconvert_exporter": "python",
   "pygments_lexer": "ipython3",
   "version": "3.6.0"
  }
 },
 "nbformat": 4,
 "nbformat_minor": 2
}
