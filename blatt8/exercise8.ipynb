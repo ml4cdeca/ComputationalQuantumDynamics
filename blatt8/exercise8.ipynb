{
 "cells": [
  {
   "cell_type": "markdown",
   "metadata": {},
   "source": [
    "# Programming exercise 8: The AKLT model and matrix product states\n",
    "\n",
    "Due on Monday, 24.12.2018, 23.59h\n",
    "\n",
    "### Total: 100 points"
   ]
  },
  {
   "cell_type": "code",
   "execution_count": 61,
   "metadata": {},
   "outputs": [],
   "source": [
    "# load standard libraries\n",
    "\n",
    "import scipy.sparse as sparse\n",
    "import scipy.sparse.linalg as sLA\n",
    "import scipy.linalg as scLA\n",
    "import numpy as np\n",
    "import numpy.linalg as npla\n",
    "import matplotlib.pyplot as plt\n",
    "%matplotlib inline"
   ]
  },
  {
   "cell_type": "markdown",
   "metadata": {},
   "source": [
    "### Exercise 1: Solving the AKLT model with exact diagonalization (25 points)\n",
    "\n",
    "This time we want to study a quantum many-body model for spins known as the AKLT model which was introduced in the 80's to explore the Haldane conjecture(see https://journals.aps.org/prl/abstract/10.1103/PhysRevLett.59.799). It has a couple of remarkable features that will allow us to use it as playground for testing the basic ideas surrounding matrix product states. As additional practice on how to build general spin models and exact diagonalization, we will start by solving it here by numerical means and then compare the result to some theoretical predictions. You can use some of the code from the last exercise as a basis but make sure to modify the operators as now we are working with spin 1!  \n",
    "\n",
    "As mentioned, this is a spin 1 model and it lives in a one dimensional chain with periodic boundary conditions (using the correct boundary condition is critical here) and the Hamiltonian is given by:\n",
    "\n",
    "$$\n",
    "H=J\\sum_{i=0}^{N-1}\\left(\\frac{1}{3} +\\frac{1}{2}S^{(i)}\\cdot S^{(i+1)}+\\frac{1}{6}(S^{(i)}\\cdot S^{(i+1)})^2\\right)\n",
    "$$\n",
    "Remenber that, due to the periodic boundary conditions, the Nth spin is identified with 0th spin. $S^{(i)}$ denotes the vector of spin sperators $(S_x^{(i)}, S_y^{(i)}, S_z^{(i)})$. It might be convenient to use the following representation for the spin their products:\n",
    "$$\n",
    "S^{(i)}\\cdot S^{(i+1)} = S_z^{(i)} S_z^{(i+1)}+\\frac{1}{2}\\left(S_+^{(i)}S_-^{(i+1)}+S_-^{(i)}S_+^{(i+1)}\\right)\n",
    "$$\n",
    "where the relevant spin 1 spin operators are $S_z=-|-1\\rangle\\langle-1| + |+1\\rangle\\langle+1|$, $S_+=\\sqrt{2}(|+1\\rangle\\langle 0| + |0\\rangle\\langle -1|)$ and $S_- = S_+^\\dagger$ (with $|s\\rangle$ denoting the basis states in the $S_z$ eigenbasis).\n",
    "\n",
    "Build the Hamiltonian in the standard product basis ($J$ is just a global energy scale and can be set to 1).\n",
    "\n",
    "First you can test your implementation by calculating the ground state energy and making sure it is zero as this is the theoretical prediction. Another test is the magnetization on the z direction which should also be zero.\n",
    "\n",
    "Once you are confident that your code is working you should compute the energy gap between ground and first excited state for a couple of system sizes $N$ and see how it behaves. Is the system gapped? This question is directly related to the Haldane conjecture.\n",
    "\n",
    "Finally, compute the correlation function $\\langle S_z^{(i)}S_z^{(i+r)} \\rangle$ as a function of $r$ and compare to the theoretical result:\n",
    "$$\n",
    "\\langle S_z^{(i)}S_z^{(i+r)}\\rangle \\propto \\left(\\frac{-1}{3}\\right)^r\n",
    "$$\n",
    "\n",
    "It probably won't look so good as the exact diagonalization is not the best tool to study this but you should get some agreement.\n",
    "\n",
    "\n",
    "Optional: Investigate what happend for open boundary conditions and see if there is any qualitative difference."
   ]
  },
  {
   "cell_type": "code",
   "execution_count": 4,
   "metadata": {},
   "outputs": [],
   "source": [
    "plus=np.array([1,0,0])\n",
    "null=np.array([0,1,0])\n",
    "minus=np.array([0,0,1])\n",
    "#build spin operators\n",
    "sz=-np.outer(minus,minus)+np.outer(plus,plus)\n",
    "sp=np.sqrt(2)*(np.outer(plus,null)+np.outer(null,minus))\n",
    "sm=np.transpose(sp)"
   ]
  },
  {
   "cell_type": "code",
   "execution_count": 5,
   "metadata": {},
   "outputs": [],
   "source": [
    "# spin operators\n",
    "# sparse spin operators\n",
    "szSp = sparse.csr_matrix(sz)\n",
    "spSp = sparse.csr_matrix(sp)\n",
    "smSp = sparse.csr_matrix(sm)\n",
    "oneSp = sparse.identity(3)\n",
    "# function that builds all single spin operators\n",
    "def BuildSingleSpinOps(N):\n",
    "    szi=[]\n",
    "    spi=[]\n",
    "    smi=[]\n",
    "    # build the single spin operators\n",
    "    for i in range(N):\n",
    "        szi.append( sparse.kron(sparse.kron(sparse.identity(3**(N-i-1)),szSp),sparse.identity(3**i)) )\n",
    "        spi.append( sparse.kron(sparse.kron(sparse.identity(3**(N-i-1)),spSp),sparse.identity(3**i)) )\n",
    "        smi.append( sparse.kron(sparse.kron(sparse.identity(3**(N-i-1)),smSp),sparse.identity(3**i)) )\n",
    "        \n",
    "    return szi, spi, smi\n",
    "\n",
    "# Build the transverse field ising Hamiltonian with periodic boundaries\n",
    "def Build_H_TFIM(N):\n",
    "    Hmat = N/3*sparse.identity(3**N)\n",
    "    for i in range(N):\n",
    "        product=Szis[i]@Szis[(i+1)%N] +1/2*(Spis[i]@Smis[(i+1)%N]+Smis[i]@Spis[(i+1)%N])\n",
    "        Hmat = Hmat +1/2*(product)+1/6*product@product\n",
    "    return Hmat\n",
    "\n"
   ]
  },
  {
   "cell_type": "code",
   "execution_count": 5,
   "metadata": {},
   "outputs": [
    {
     "name": "stdout",
     "output_type": "stream",
     "text": [
      "ground state energy: -6.021368e-16\n"
     ]
    }
   ],
   "source": [
    "N = 10\n",
    "dim = 3**N\n",
    "\n",
    "Szis, Spis, Smis = BuildSingleSpinOps(N)\n",
    "\n",
    "# calculate the ground state and compare to analytical result\n",
    "Hmat = Build_H_TFIM(N)\n",
    "print('ground state energy: %e'%sLA.eigsh(Hmat,k=3,which='SA')[0][0])\n",
    "\n"
   ]
  },
  {
   "cell_type": "markdown",
   "metadata": {},
   "source": [
    "This is small enough to be counted as zero in our numerical boundaries."
   ]
  },
  {
   "cell_type": "code",
   "execution_count": 8,
   "metadata": {},
   "outputs": [
    {
     "name": "stdout",
     "output_type": "stream",
     "text": [
      "progress: 8/8\r"
     ]
    }
   ],
   "source": [
    "Ns=np.linspace(4,12,8,dtype=int)\n",
    "\n",
    "dif=np.zeros(len(Ns))\n",
    "for i in range(len(Ns)):\n",
    "    N=int(Ns[i])\n",
    "    dim=3**N\n",
    "    Szis, Spis, Smis = BuildSingleSpinOps(int(N))\n",
    "    Hmat=Build_H_TFIM(int(N))\n",
    "    eigval,eigvec=sLA.eigsh(Hmat,k=2,which=\"SA\")\n",
    "    dif[i]=eigval[1]-eigval[0]\n",
    "    print('progress: %i/%i'%((i+1),len(Ns)),end='\\r')"
   ]
  },
  {
   "cell_type": "code",
   "execution_count": 13,
   "metadata": {},
   "outputs": [
    {
     "data": {
      "image/png": "[encoded data removed]",
      "text/plain": [
       "<Figure size 432x288 with 1 Axes>"
      ]
     },
     "metadata": {},
     "output_type": "display_data"
    }
   ],
   "source": [
    "plt.plot(Ns,dif)\n",
    "plt.xlabel('N')\n",
    "plt.ylabel('difference $E_1-E_0$ [J]')\n",
    "plt.title('Energy gap between ground and first exited state')\n",
    "plt.show()"
   ]
  },
  {
   "cell_type": "markdown",
   "metadata": {},
   "source": [
    "As visible the energy gap between ground state and first excited state fluctuates at first, but with higher N converges against $\\approx 0.35$"
   ]
  },
  {
   "cell_type": "markdown",
   "metadata": {},
   "source": [
    "### Exercise 2: Entanglement in the phase diagram (25 points)\n",
    "\n",
    "Now we are going to look at entanglement in the AKLT model but to make things more interesting we add a paramenter $\\theta$ to the Hamiltonian:\n",
    "$$\n",
    "H=-J\\sum_{i=0}^{N-1}\\left(\\frac{cos(\\theta)}{3 cos(\\theta_{0})} +\\frac{cos(\\theta)}{2 cos(\\theta_{0})}S^{(i)}\\cdot S^{(i+1)}+\\frac{sin(\\theta)}{6 cos(\\theta_{0})}(S^{(i)}\\cdot S^{(i+1)})^2\\right)\n",
    "$$\n",
    "where $\\theta_0 = \\text{arctan}(1/3)$ is a special angle that allow us to go back to the original Hamiltonian with $\\theta=\\theta_0$.\n",
    "\n",
    "\n",
    "Study what happens to the gap of the system as you change $\\theta$, moving away from $\\theta_0$, and interpret your results. After this you should look at the entanglement of the ground state for different $\\theta$ taking into account your conclusions about the gap. What happens to the entanglement entropy and the schmidt rank as $\\theta$ changes?\n",
    "\n",
    "Tip: a nice trick to compute partial traces is to use the function reshape() as it allows you to rewrite your state as a matrix in the way required for a Schmidt decomposition. After that all you need to do to get the entanglement spectrum is perform a svd (also available in the usual places) and look at the singular values."
   ]
  },
  {
   "cell_type": "code",
   "execution_count": 47,
   "metadata": {},
   "outputs": [],
   "source": [
    "def Build_H_TFIMth(N,th):\n",
    "    \n",
    "    Hmat = N*np.cos(th)/(np.cos(np.arctan(1/3))*3)*sparse.identity(3**N)\n",
    "    for i in range(N):\n",
    "        product=Szis[i]@Szis[(i+1)%N] +1/2*(Spis[i]@Smis[(i+1)%N]+Smis[i]@Spis[(i+1)%N])\n",
    "        Hmat = Hmat +np.cos(th)/(np.cos(np.arctan(1/3))*2)*(product)+\n",
    "        np.sin(th)/(np.cos(np.arctan(1/3))*6)*product@product\n",
    "    return Hmat\n"
   ]
  },
  {
   "cell_type": "code",
   "execution_count": 58,
   "metadata": {},
   "outputs": [
    {
     "data": {
      "text/plain": [
       "[<matplotlib.lines.Line2D at 0x259cffd42e8>]"
      ]
     },
     "execution_count": 58,
     "metadata": {},
     "output_type": "execute_result"
    },
    {
     "data": {
      "image/png": "[encoded data removed]",
      "text/plain": [
       "<Figure size 432x288 with 1 Axes>"
      ]
     },
     "metadata": {
      "needs_background": "light"
     },
     "output_type": "display_data"
    }
   ],
   "source": [
    "dif=[]\n",
    "groundstates=[]\n",
    "N=4\n",
    "thetas=np.arange(0,2*np.pi,np.pi/20)\n",
    "Szis, Spis, Smis = BuildSingleSpinOps(N)\n",
    "\n",
    "for th in thetas:\n",
    "    Hmat=Build_H_TFIMth(N,th)\n",
    "    eigval,eigvec=sLA.eigsh(Hmat,k=3,which=\"SA\")\n",
    "    dif.append(eigval[1]-eigval[0])\n",
    "    groundstates.append(eigvec[:,0])\n",
    "plt.plot(thetas/np.pi,dif)\n",
    "plt.xlabel(r'$\\theta$ [$\\pi$]')\n",
    "plt.ylabel('energy difference')\n",
    "plt.title(r'Energy difference $E_1-E_0$ as function of $\\theta$')\n",
    "\n",
    "y=np.linspace(0,0.6,100)\n",
    "z=np.ones(100)\n",
    "plt.plot(z*np.arctan(1/3),y,linestyle=\"--\")"
   ]
  },
  {
   "cell_type": "markdown",
   "metadata": {},
   "source": [
    "In the diagram a vanishing of the gap is visible as $\\theta$ moves further away from $\\theta_0$, telling us that the groundstate and first excited merge."
   ]
  },
  {
   "cell_type": "markdown",
   "metadata": {},
   "source": [
    "Note: The calculations below are only theoretical, as we were not sure at which spin to split the system. The values l and r resemble the reshape conditions. "
   ]
  },
  {
   "cell_type": "code",
   "execution_count": 51,
   "metadata": {},
   "outputs": [],
   "source": [
    "#Calculating the Schmidt rank \n",
    "def SchmidtRank(state):\n",
    "    #reshaping the matrix\n",
    "    Matstate = np.reshape(state,(l,r))\n",
    "    \n",
    "    u,s,v = LA.svd(Matstate)\n",
    "    rank=S[abs(S)>1e-14]\n",
    "    return len(rank)\n",
    "    \n",
    "def Entropy(state):\n",
    "    \n",
    "    Matstate= np.reshape(state,(l,r))\n",
    "    \n",
    "    u,s,v = LA.svd(Matstate)\n",
    "    S = S[S>2e-14]\n",
    "    return -1* np.sum(S*S+np.log(S*S))\n"
   ]
  },
  {
   "cell_type": "code",
   "execution_count": null,
   "metadata": {},
   "outputs": [],
   "source": [
    "Schmidtrank=[]\n",
    "Entropies=[]\n",
    "for state in groundstates:\n",
    "    Schmidtrank.append(SchmidtRank(state))\n",
    "    Entropies.append(Entropy(state))"
   ]
  },
  {
   "cell_type": "code",
   "execution_count": null,
   "metadata": {},
   "outputs": [],
   "source": [
    "plt.plot(thetas,Schmidtrank)\n",
    "plt.title(\"SchmidtRank for different $\\theta$\")\n",
    "plt.xlabel(\"$\\theta$\")\n",
    "plt.ylabel(\"rank\")"
   ]
  },
  {
   "cell_type": "code",
   "execution_count": null,
   "metadata": {},
   "outputs": [],
   "source": [
    "plt.plot(thetas,Entropies)\n",
    "plt.title(\"Entangelment Entropy for different $\\theta$\")\n",
    "plt.xlabel(\"$\\theta$\")\n",
    "plt.ylabel(\"rank\")"
   ]
  },
  {
   "cell_type": "markdown",
   "metadata": {},
   "source": [
    "### Exercise 3: MPS description (50 points)\n",
    "\n",
    "Finally we will use the MPS machinery and explain why we chose to study the AKLT model (besides the fact that it is a pretty cool model :)). Usually for any given Hamiltonian it is necessary to apply a (complicated) procedure to find a good MPS aproximation for the ground states but the AKLT ground states is special in that it admits an exact MPS description so we can directly apply the tensor network techniques to it! The representation only requires bond dimension 2 and is given by the following 2x2 matrices:\n",
    "$$\n",
    "A_{+1}=\\sqrt{\\frac{2}{3}} \\sigma_+\\\\\n",
    "A_{0}=-\\sqrt{\\frac{1}{3}} \\sigma_z\\\\\n",
    "A_{-1}=-\\sqrt{\\frac{2}{3}} \\sigma_-\\\\\n",
    "$$\n",
    "\n",
    "Show that this really gives the ground state by comparing it to the states you got from exact diagonalization. To do so you should use the expression for MPS ansatz to reconstruct the corresponding state in your basis\n",
    "$$\n",
    "|\\psi_{\\text{mps}}\\rangle = \\sum_{s_i} Tr(A_{s_0}A_{s_1}\\dots A_{s_{N-1}})|s_0 s_1 \\dots s_{N-1}\\rangle\n",
    "$$\n",
    "and compute the overlap $\\langle\\psi_{\\text{ed}}|\\psi_{\\text{mps}}\\rangle$ with the exact diagonalzation ground state. Of course, this is not very smart as we are using our efficiennt MPS representation to reconstruct the inefficient ED representation, but it is a good sanity check nonetheless. \n",
    "\n",
    "You might notice a small deviation on the overlap. This comes from the fact that the MPS state is not normalized and you can see this by computing the norm directly from the matrices:\n",
    "$$\n",
    "\\langle\\psi_{\\text{mps}}|\\psi_{\\text{mps}}\\rangle = Tr(E^n)\n",
    "$$\n",
    "where\n",
    "$$\n",
    "E = \\sum_s A_s\\otimes A_s^*\\\\\n",
    "$$\n",
    "is the local matrix corresponding to the identity operator. To speed up this calculation you can diagonalize E so that you only need to compute powers of the eigenvales and not the actual matrix. Show that the deviation from 1 is small and vanishes exponentially for large systems.\n",
    "\n",
    "Now, for the real benefits of the MPS, let's compute the correlation function $\\langle S_z^{(i)}S_z^{(i+r)}\\rangle$ from exercise 1. This can be done for very large systems by simply replacing two E matrices in the expression for the norm with\n",
    "$$\n",
    "E_z = \\sum_{s,s'}\\langle s|S_z|s'\\rangle A_s\\otimes A_{s'}^*\n",
    "$$\n",
    "which is the local matrix for $S_z$. Think about the correct position where the $E_z$ should go and use this to compute the correlation function. Compare the results to the theoretical prediction mentioned in the first exercise.\n",
    "\n",
    "Optional: The AKLT model has a hidden order that manifests it self through a string operator:\n",
    "$$\n",
    "\\langle S_z^{(i)}\\,\\exp\\left[\\sum_{i<k<j}i \\pi S_z^{(k)}\\right] \\,  S_z^{(j)}\\rangle\n",
    "$$\n",
    "Compute this order parameter and show that it maintains a constant value for $|i-j|>2$"
   ]
  },
  {
   "cell_type": "code",
   "execution_count": 12,
   "metadata": {},
   "outputs": [],
   "source": [
    "#defining the matrices\n",
    "Ap=np.array([[0,np.sqrt(2/3)],[0,0]])\n",
    "A0=-1/np.sqrt(3)*np.array([[1,0],[0,-1]])\n",
    "Am=np.array([[0,0],[-np.sqrt(2/3),0]])\n",
    "\n",
    "ApSp = sparse.csr_matrix(Ap)\n",
    "A0Sp = sparse.csr_matrix(A0)\n",
    "AmSp = sparse.csr_matrix(Am)\n",
    "mat=[ApSp,A0Sp,AmSp]"
   ]
  },
  {
   "cell_type": "code",
   "execution_count": 13,
   "metadata": {},
   "outputs": [
    {
     "name": "stdout",
     "output_type": "stream",
     "text": [
      "[[ 0.33333333  0.          0.          0.        ]\n",
      " [ 0.         -0.33333333  0.66666667  0.        ]\n",
      " [ 0.          0.66666667 -0.33333333  0.        ]\n",
      " [ 0.          0.          0.          0.33333333]]\n"
     ]
    }
   ],
   "source": [
    "#creating an empty matrix\n",
    "Em = sparse.csr_matrix((4,4))\n",
    "\n",
    "#adding up the matrixes\n",
    "for matrix in mat:\n",
    "    Em= Em + sparse.kron(matrix,np.transpose(matrix))\n",
    "print(Em.todense())\n",
    "\n",
    "#calculating Ez, can be done as below, as only the +1 and -1 states contribute due to the orthogonal basis and 0 eigval\n",
    "#of the 0 state leaving all other possibilites to fall out\n",
    "Ez = sparse.kron(mat[0],np.transpose(mat[0]))-sparse.kron(mat[2],np.transpose(mat[2]))"
   ]
  },
  {
   "cell_type": "code",
   "execution_count": 62,
   "metadata": {},
   "outputs": [],
   "source": [
    "#calculating the eigvalues\n",
    "def trace(N):\n",
    "    eigval,eigvek=scLA.eigh(Em.todense())\n",
    "    #start trace by adding eigvalues\n",
    "    overlap=0\n",
    "    for i in range(len(eigval)):\n",
    "        overlap+= eigval[i]**N\n",
    "    return overlap\n",
    "\n",
    "#calculation of the expected value j refers to the first spin and r the diference to the second and N the number of\n",
    "#total spins\n",
    "\n",
    "def expect(j,r,N):\n",
    "    i=j+r\n",
    "    sol=Em**(j-1)@Ez@Em**(i-j-1)@Ez@Em**(N-i)\n",
    "    \n",
    "    return np.trace(sol.toarray())\n",
    "#reference array for plotting"
   ]
  },
  {
   "cell_type": "code",
   "execution_count": 63,
   "metadata": {},
   "outputs": [
    {
     "data": {
      "text/plain": [
       "Text(0.5,1,'Theoretical overlap')"
      ]
     },
     "execution_count": 63,
     "metadata": {},
     "output_type": "execute_result"
    },
    {
     "data": {
      "image/png": "[encoded data removed]",
      "text/plain": [
       "<Figure size 432x288 with 1 Axes>"
      ]
     },
     "metadata": {
      "needs_background": "light"
     },
     "output_type": "display_data"
    }
   ],
   "source": [
    "Ns=np.arange(5,20,1)\n",
    "overlapsi=[]\n",
    "for xi in Ns:\n",
    "    one=trace(xi)\n",
    "    overlapsi.append(one)\n",
    "plt.plot(Ns,abs(np.array(overlapsi)**2))\n",
    "plt.xlabel(\"N\")\n",
    "plt.ylabel(\"$|\\Psi|^2$\")\n",
    "plt.title(\"Theoretical overlap\")"
   ]
  },
  {
   "cell_type": "markdown",
   "metadata": {},
   "source": [
    "As can be seen, the theoretical overlap converges to 1 for larger N."
   ]
  },
  {
   "cell_type": "code",
   "execution_count": 39,
   "metadata": {},
   "outputs": [
    {
     "data": {
      "text/plain": [
       "Text(0,0.5,'$<S^{(j)} S^{(j+r)}>$')"
      ]
     },
     "execution_count": 39,
     "metadata": {},
     "output_type": "execute_result"
    },
    {
     "data": {
      "image/png": "[encoded data removed]",
      "text/plain": [
       "<Figure size 432x288 with 1 Axes>"
      ]
     },
     "metadata": {
      "needs_background": "light"
     },
     "output_type": "display_data"
    }
   ],
   "source": [
    "#calculating the overlap using the mps method\n",
    "r=np.arange(1,7,1)\n",
    "expectval=[]\n",
    "\n",
    "for el in r:\n",
    "    #2 as this is our first spin, el refers to the difference to the second element we are investigating and 10 is the\n",
    "    #total spin number\n",
    "    expectval.append(expect(2,el,10))\n",
    "\n",
    "plt.plot(r,expectval)\n",
    "plt.title(\"Experimental expectation value\")\n",
    "plt.xlabel(\"Distance r\")\n",
    "plt.ylabel(\"$<S^{(j)} S^{(j+r)}>$\")\n"
   ]
  },
  {
   "cell_type": "code",
   "execution_count": 46,
   "metadata": {},
   "outputs": [
    {
     "data": {
      "text/plain": [
       "Text(0.5,1,'theoretical expectation values')"
      ]
     },
     "execution_count": 46,
     "metadata": {},
     "output_type": "execute_result"
    },
    {
     "data": {
      "image/png": "[encoded data removed]",
      "text/plain": [
       "<Figure size 432x288 with 1 Axes>"
      ]
     },
     "metadata": {
      "needs_background": "light"
     },
     "output_type": "display_data"
    }
   ],
   "source": [
    "#theoretical values for reference\n",
    "plt.plot(r,(-1/3)**r)\n",
    "plt.xlabel(\"Distance r\")\n",
    "plt.ylabel(\"$<S^{(j)} S^{(j+r)}>$\")\n",
    "plt.title(\"theoretical expectation values\")"
   ]
  },
  {
   "cell_type": "markdown",
   "metadata": {
    "collapsed": true
   },
   "source": [
    "As can be seen the mps representation gives us a great possibility to calculate expectation values. The obtained results show the same trend as the theoretical reference."
   ]
  },
  {
   "cell_type": "code",
   "execution_count": null,
   "metadata": {},
   "outputs": [],
   "source": []
  }
 ],
 "metadata": {
  "kernelspec": {
   "display_name": "Python 3",
   "language": "python",
   "name": "python3"
  },
  "language_info": {
   "codemirror_mode": {
    "name": "ipython",
    "version": 3
   },
   "file_extension": ".py",
   "mimetype": "text/x-python",
   "name": "python",
   "nbconvert_exporter": "python",
   "pygments_lexer": "ipython3",
   "version": "3.7.0"
  }
 },
 "nbformat": 4,
 "nbformat_minor": 2
}
