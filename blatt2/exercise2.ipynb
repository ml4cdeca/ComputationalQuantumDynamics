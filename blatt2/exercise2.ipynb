{
 "cells": [
  {
   "cell_type": "markdown",
   "metadata": {},
   "source": [
    "# Programming exercise 2: Split-step Fourier method\n",
    "\n",
    "Due on Monday, 05.11.2018, 14.15h\n",
    "\n",
    "### Total: 100 points"
   ]
  },
  {
   "cell_type": "markdown",
   "metadata": {},
   "source": [
    "## Defining the problem\n",
    "\n",
    "We want to calculate the time evolution of a quantum particle in a on-dimensional potential, i.e. solve the initial value problem\n",
    "\n",
    "$$ i\\partial_t \\psi(x,t) = \\left[-\\frac{1}{2} \\partial_{x}^2 + V(x)\\right] \\psi(x,t) $$\n",
    "\n",
    "with initial condition\n",
    "\n",
    "$$ \\psi(x,t=0) = \\psi_0(x) $$\n",
    "\n",
    "by representing the wave function $\\psi(x,t)$ on a discrete spatial grid and propagating it using the split-step Fourier method."
   ]
  },
  {
   "cell_type": "code",
   "execution_count": 1,
   "metadata": {
    "collapsed": true
   },
   "outputs": [],
   "source": [
    "# load standard libraries\n",
    "\n",
    "import numpy as np   # standard numerics library\n",
    "\n",
    "import matplotlib.pyplot as plt   # for making plots\n",
    "\n",
    "%matplotlib inline"
   ]
  },
  {
   "cell_type": "markdown",
   "metadata": {},
   "source": [
    "### Exercise 1 (50 points)\n",
    "\n",
    "Write a function that calculates the discrete Fourier transform of a wave function. Use only even numbers of grid points. You have learned that the spli-step-Fourier method automatically imposes periodic bounbary conditions, so it makes sense to define the spatial grid like -L/2,-L/2+dx ... L/2-dx.\n",
    "\n",
    "Test your code by Fourier transforming functions where you know what the outcome should be, e.g. a constant function, a cos-function etc.\n",
    "Implement also the inverse Fourier transform. Make sure you get back the original function after applying the FT twice.\n",
    "\n",
    "Numpy provides a fast Fourier transform module. Campare your manual FT the result of the fast Fourier algorithm. Pay special attention the ordering in which the Fourier components are retured by the FFT."
   ]
  },
  {
   "cell_type": "markdown",
   "metadata": {},
   "source": [
    "Math of the DFT:\n",
    "\n",
    "We are given a sequence of N numbers {$x_n$}$:=x_0, x_1,\\ldots,x_{N-1}$ and transform it into another sequence {$X_k$}$=X_0,\\ldots,X_{N-1}$.$$X_k=\\sum_{n=0}^{N-1} x_n \\cdot \\left[ \\cos(2\\pi kn/N)-i\\cdot \\sin(2\\pi kn/N)\\right]$$"
   ]
  },
  {
   "cell_type": "code",
   "execution_count": 2,
   "metadata": {
    "collapsed": false
   },
   "outputs": [],
   "source": [
    "#create discrete Fourier transform-function:\n",
    "#takes an L>0 and 0< #a ∈2ℕ for the length and the number of grid points respectively and returns the discrete\n",
    "#Fourier Transformation of the array a\n",
    "def DFT(a,inverse=False): #no need for L\n",
    "    \n",
    "    #if L<0:# or N<0:\n",
    "    #    raise ValueError('The lenght and number of gridpoints needs to be a positive number.')\n",
    "    if len(a)%2==1:\n",
    "        raise ValueError('Number of gridpoints needs to be an even number.')\n",
    "    #define the sign of the exponent:\n",
    "    s=1 if inverse else -1\n",
    "    #create grid:\n",
    "    #x=np.linspace(-L/2,L/2,len(a)) #unnötig\n",
    "    #dx=L/N\n",
    "    #result array A\n",
    "    A=[]\n",
    "    def transform(k):\n",
    "        Ak=0\n",
    "        for i in range(len(a)):\n",
    "            Ak+=a[i]*np.exp(2j*np.pi*k*i*s/len(a))\n",
    "        if inverse:\n",
    "            return Ak/len(a)\n",
    "        else:\n",
    "            return Ak\n",
    "    for i in range(len(a)):\n",
    "        A.append(transform(i))\n",
    "    return np.roll(A,-int(len(A)/2)) #rearrange\n",
    "#inverse DFT outsourced:\n",
    "def iDFT(A,L,N):\n",
    "    return DFT(A,L,N,inverse=True)"
   ]
  },
  {
   "cell_type": "markdown",
   "metadata": {},
   "source": [
    "#### testing\n",
    "Testing on the box function $$\\text{box}=\\begin{cases} 1 \\text{, for } |x| \\leq \\frac T2\\\\0 \\text{, else}\\end{cases}$$ $$\\mathcal F[\\text{box}(x)]=\\dfrac{1}{\\sqrt{2\\pi}} \\int_{-\\infty}^{\\infty} \\text{box}(t)\\ e^{-i\\omega t} dt = \\dfrac{1}{\\sqrt{2\\pi}} \\int_{-\\frac12}^{\\frac12}e^{-i\\omega t} dt=\\dfrac{1}{\\sqrt{2\\pi}} \\dfrac{2 \\sin(\\omega/2)}{\\omega} =\\dfrac4{\\sqrt{2\\pi}} \\text{sinc}(\\omega /2)$$"
   ]
  },
  {
   "cell_type": "code",
   "execution_count": 13,
   "metadata": {
    "collapsed": false
   },
   "outputs": [
    {
     "data": {
      "text/plain": [
       "<matplotlib.legend.Legend at 0x29b5bf9f748>"
      ]
     },
     "execution_count": 13,
     "metadata": {},
     "output_type": "execute_result"
    },
    {
     "data": {
      "image/png": "[encoded data removed]",
      "text/plain": [
       "<Figure size 432x288 with 1 Axes>"
      ]
     },
     "metadata": {},
     "output_type": "display_data"
    }
   ],
   "source": [
    "#box function: expected outcome: sinc(x)\n",
    "grid=100\n",
    "a=np.linspace(-1,1,grid)\n",
    "def box(x,T,N):\n",
    "    b=np.zeros(N)\n",
    "    b[abs(x)<=T]=1\n",
    "    return b\n",
    "x=box(a,.5,grid)\n",
    "plt.plot(a,x,label='box')\n",
    "plt.plot(a,np.real(DFT(x)),label='self written')\n",
    "plt.plot(a,np.real(np.fft.fftshift(np.fft.fft(x))),'--',label='numpy fft')\n",
    "plt.title('Fourier transform of the box function')\n",
    "plt.xlabel('$x$ and $\\omega$')\n",
    "plt.ylabel('y')\n",
    "plt.legend()"
   ]
  },
  {
   "cell_type": "markdown",
   "metadata": {},
   "source": [
    "Our own implementation and the numpy function give the same results. in this case as predicted a sinc function."
   ]
  },
  {
   "cell_type": "markdown",
   "metadata": {},
   "source": [
    "### Exercise 2 (50 points)\n",
    "\n",
    "Implement the split step Fourier algorithm using the numpy FFT and iFFT functions.\n",
    "\n",
    "Test your code by propagating a Gaussian wave packet in free space. \n",
    "\n",
    "Calculate mean and variance at each time and plot them. Does you observation match your expectation?\n",
    "\n",
    "Animate the time evolution of the wave packet as we did in exercise 5 of programming exercise 1.\n",
    "\n",
    "Here are some example parameter that you could use:"
   ]
  },
  {
   "cell_type": "code",
   "execution_count": null,
   "metadata": {
    "collapsed": true
   },
   "outputs": [],
   "source": [
    "# define the grid\n",
    "L = 20\n",
    "npoints = 256\n",
    "\n",
    "# parameters of the wave packet\n",
    "x0 = -5;\n",
    "sigma = 1;\n",
    "p0 = 1;\n",
    "\n",
    "#time steps\n",
    "dt = 0.1;\n",
    "tsteps = 50;"
   ]
  },
  {
   "cell_type": "markdown",
   "metadata": {},
   "source": [
    "Try out different parameters. What happens if you choose a momentum p0 which is larger than the largest momentum on you momentum space grid?\n",
    "\n",
    "[[Bonus task (not graded): Compare the results to the exact analytical solution for a propagating wave packet. Try to increase the spatial and temporal step size to see how the error depends on them. You can also look at the wave packet in Fourier space, where the analytical solution is even simpler.]]"
   ]
  },
  {
   "cell_type": "markdown",
   "metadata": {},
   "source": [
    "Let the wave packet from before evolve in a harmonic potential (with p0=0). Start with a wave packet that is initially at rest but displaced from the ceneter of the hanmonic potential.\n",
    "\n",
    "Again, calculate temporal evolution of mean and variance and visualize the wave packet evolution in an animation. Is what you observe consistent with your expectation? (A Gaussian wave packet in a harmonic potential is called a coherent state. What did you learn about these in your quantum mechanics lecture?)"
   ]
  },
  {
   "cell_type": "markdown",
   "metadata": {},
   "source": [
    "Now simulate the scattering off a potential step $V(x)=\\theta(x)$. Choose different initial velocities. Interpret your results. What happens when the reflected wave packet reaches the boundary of the spatial grid?\n",
    "\n",
    "Example parameters:"
   ]
  },
  {
   "cell_type": "code",
   "execution_count": null,
   "metadata": {
    "collapsed": true
   },
   "outputs": [],
   "source": [
    "# define the grid\n",
    "L = 40\n",
    "npoints = 512\n",
    "\n",
    "# parameters of the wave packet\n",
    "x0 = -10;\n",
    "sigma = 2;\n",
    "p0 = 1;# try also 1.5 and 2\n",
    "\n",
    "#time steps\n",
    "dt = 0.1;\n",
    "tsteps = 250;"
   ]
  },
  {
   "cell_type": "markdown",
   "metadata": {},
   "source": [
    "[[Bonus question: Be creative! Let your wave packet propagate through a potential barrier, across a well, or down a step etc. Measure the reflected and transitted pobability (and the probability to be inside the barrier) as a function of time and study the transmission systematically as a function of the initial momentum...]]"
   ]
  }
 ],
 "metadata": {
  "kernelspec": {
   "display_name": "Python 3",
   "language": "python",
   "name": "python3"
  },
  "language_info": {
   "codemirror_mode": {
    "name": "ipython",
    "version": 3
   },
   "file_extension": ".py",
   "mimetype": "text/x-python",
   "name": "python",
   "nbconvert_exporter": "python",
   "pygments_lexer": "ipython3",
   "version": "3.6.0"
  }
 },
 "nbformat": 4,
 "nbformat_minor": 2
}
