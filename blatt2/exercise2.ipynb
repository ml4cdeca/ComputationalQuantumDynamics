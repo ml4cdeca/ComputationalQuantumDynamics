{
 "cells": [
  {
   "cell_type": "markdown",
   "metadata": {},
   "source": [
    "# Programming exercise 2: Split-step Fourier method\n",
    "\n",
    "Due on Monday, 05.11.2018, 14.15h\n",
    "\n",
    "### Total: 100 points"
   ]
  },
  {
   "cell_type": "markdown",
   "metadata": {},
   "source": [
    "## Defining the problem\n",
    "\n",
    "We want to calculate the time evolution of a quantum particle in a on-dimensional potential, i.e. solve the initial value problem\n",
    "\n",
    "$$ i\\partial_t \\psi(x,t) = \\left[-\\frac{1}{2} \\partial_{x}^2 + V(x)\\right] \\psi(x,t) $$\n",
    "\n",
    "with initial condition\n",
    "\n",
    "$$ \\psi(x,t=0) = \\psi_0(x) $$\n",
    "\n",
    "by representing the wave function $\\psi(x,t)$ on a discrete spatial grid and propagating it using the split-step Fourier method."
   ]
  },
  {
   "cell_type": "code",
   "execution_count": 242,
   "metadata": {},
   "outputs": [],
   "source": [
    "# load standard libraries\n",
    "\n",
    "import numpy as np   # standard numerics library\n",
    "\n",
    "import matplotlib.pyplot as plt   # for making plots\n",
    "\n",
    "%matplotlib inline"
   ]
  },
  {
   "cell_type": "markdown",
   "metadata": {},
   "source": [
    "### Exercise 1 (50 points)\n",
    "\n",
    "Write a function that calculates the discrete Fourier transform of a wave function. Use only even numbers of grid points. You have learned that the spli-step-Fourier method automatically imposes periodic bounbary conditions, so it makes sense to define the spatial grid like -L/2,-L/2+dx ... L/2-dx.\n",
    "\n",
    "Test your code by Fourier transforming functions where you know what the outcome should be, e.g. a constant function, a cos-function etc.\n",
    "Implement also the inverse Fourier transform. Make sure you get back the original function after applying the FT twice.\n",
    "\n",
    "Numpy provides a fast Fourier transform module. Campare your manual FT the result of the fast Fourier algorithm. Pay special attention the ordering in which the Fourier components are retured by the FFT."
   ]
  },
  {
   "cell_type": "markdown",
   "metadata": {},
   "source": [
    "Math of the DFT:\n",
    "\n",
    "We are given a sequence of N numbers {$x_n$}$:=x_0, x_1,\\ldots,x_{N-1}$ and transform it into another sequence {$X_k$}$=X_0,\\ldots,X_{N-1}$.$$X_k=\\sum_{n=0}^{N-1} x_n \\cdot \\left[ \\cos(2\\pi kn/N)-i\\cdot \\sin(2\\pi kn/N)\\right]$$"
   ]
  },
  {
   "cell_type": "code",
   "execution_count": 243,
   "metadata": {},
   "outputs": [],
   "source": [
    "#create discrete Fourier transform-function:\n",
    "#takes an L>0 and 0< #a ∈2ℕ for the length and the number of grid points respectively and returns the discrete\n",
    "#Fourier Transformation of the array a\n",
    "def DFT(a,inverse=False): #no need for L\n",
    "    \n",
    "    #if L<0:# or N<0:\n",
    "    #    raise ValueError('The lenght and number of gridpoints needs to be a positive number.')\n",
    "    if len(a)%2==1:\n",
    "        raise ValueError('Number of gridpoints needs to be an even number.')\n",
    "    #define the sign of the exponent:\n",
    "    s=1 if inverse else -1\n",
    "    #create grid:\n",
    "    #x=np.linspace(-L/2,L/2,len(a)) #unnötig\n",
    "    #dx=L/N\n",
    "    #result array A\n",
    "    A=[]\n",
    "    def transform(k):\n",
    "        Ak=0\n",
    "        for i in range(len(a)):\n",
    "            Ak+=a[i]*np.exp(2j*np.pi*k*i*s/len(a))\n",
    "        if inverse:\n",
    "            return Ak/len(a)\n",
    "        else:\n",
    "            return Ak\n",
    "    for i in range(len(a)):\n",
    "        A.append(transform(i))\n",
    "    return np.roll(A,-int(len(A)/2)) #rearrange\n",
    "#inverse DFT outsourced:\n",
    "def iDFT(A,L,N):\n",
    "    return DFT(A,L,N,inverse=True)"
   ]
  },
  {
   "cell_type": "markdown",
   "metadata": {},
   "source": [
    "#### testing\n",
    "Testing on the box function $$\\text{box}=\\begin{cases} 1 \\text{, for } |x| \\leq \\frac T2\\\\0 \\text{, else}\\end{cases}$$ $$\\mathcal F[\\text{box}(x)]=\\dfrac{1}{\\sqrt{2\\pi}} \\int_{-\\infty}^{\\infty} \\text{box}(t)\\ e^{-i\\omega t} dt = \\dfrac{1}{\\sqrt{2\\pi}} \\int_{-\\frac12}^{\\frac12}e^{-i\\omega t} dt=\\dfrac{1}{\\sqrt{2\\pi}} \\dfrac{2 \\sin(\\omega/2)}{\\omega} =\\dfrac4{\\sqrt{2\\pi}} \\text{sinc}(\\omega /2)$$"
   ]
  },
  {
   "cell_type": "code",
   "execution_count": 244,
   "metadata": {},
   "outputs": [
    {
     "data": {
      "text/plain": [
       "<matplotlib.legend.Legend at 0x2575d2c7208>"
      ]
     },
     "execution_count": 244,
     "metadata": {},
     "output_type": "execute_result"
    },
    {
     "data": {
      "image/png": "[encoded data removed]",
      "text/plain": [
       "<Figure size 432x288 with 1 Axes>"
      ]
     },
     "metadata": {
      "needs_background": "light"
     },
     "output_type": "display_data"
    }
   ],
   "source": [
    "#box function: expected outcome: sinc(x)\n",
    "grid=100\n",
    "a=np.linspace(-1,1-2/grid,grid)\n",
    "def box(x,T,N):\n",
    "    b=np.zeros(N)\n",
    "    b[abs(x)<=T]=1\n",
    "    return b\n",
    "x=box(a,.5,grid)\n",
    "plt.plot(a,x,label='box')\n",
    "plt.plot(a,np.real(DFT(x)),label='self written')\n",
    "plt.plot(a,np.real(np.fft.fftshift(np.fft.fft(x))),'--',label='numpy fft')\n",
    "plt.title('Fourier transform of the box function')\n",
    "plt.xlabel('$x$ and $\\omega$')\n",
    "plt.ylabel('y')\n",
    "plt.legend()"
   ]
  },
  {
   "cell_type": "markdown",
   "metadata": {},
   "source": [
    "Our own implementation and the numpy function give the same results. in this case as predicted a sinc function."
   ]
  },
  {
   "cell_type": "markdown",
   "metadata": {},
   "source": [
    "### Exercise 2 (50 points)\n",
    "\n",
    "Implement the split step Fourier algorithm using the numpy FFT and iFFT functions.\n",
    "\n",
    "Test your code by propagating a Gaussian wave packet in free space. \n",
    "\n",
    "Calculate mean and variance at each time and plot them. Does you observation match your expectation?\n",
    "\n",
    "Animate the time evolution of the wave packet as we did in exercise 5 of programming exercise 1.\n",
    "\n",
    "Here are some example parameter that you could use:"
   ]
  },
  {
   "cell_type": "code",
   "execution_count": 245,
   "metadata": {},
   "outputs": [],
   "source": [
    "#defining the gaussian with all parameters\n",
    "def gaussian(x,mu,sig,p0):\n",
    "    return 1/np.sqrt(2*np.pi*sig**2)*np.exp(-((x-mu)**2/(2*sig**2)+1j*p0*x))"
   ]
  },
  {
   "cell_type": "code",
   "execution_count": 246,
   "metadata": {},
   "outputs": [],
   "source": [
    "# define the grid\n",
    "L = 20\n",
    "npoints = 256\n",
    "x=np.linspace(-L/2,L/2-L/npoints,npoints)\n",
    "dx=np.diff(x).mean()\n",
    "# parameters of the wave packet\n",
    "x0 = -5;\n",
    "sigma = 1;\n",
    "p0 = 1;\n",
    "\n",
    "#time steps\n",
    "dt = 0.1;\n",
    "tsteps = 50;\n",
    "\n",
    "#potential \n",
    "Vpot=0\n"
   ]
  },
  {
   "cell_type": "code",
   "execution_count": 247,
   "metadata": {},
   "outputs": [],
   "source": [
    "\n",
    "from numpy.fft import fft,ifft,fftshift,ifftshift\n",
    "#define k space\n",
    "k=fftshift(np.fft.fftfreq(npoints,d=dx))\n",
    "dk=np.diff(k).mean()\n",
    "Ekin=k**2/2\n",
    "#kinetic energy"
   ]
  },
  {
   "cell_type": "code",
   "execution_count": 263,
   "metadata": {},
   "outputs": [],
   "source": [
    "class wavePacket:\n",
    "    #initialize wave packet\n",
    "    def __init__(self,x,x0,sigma,p0,V,Ekin):\n",
    "        self.x0,self.sigma,self.p0,self.V,self.Ekin=x0,sigma,p0,V,Ekin\n",
    "        k=fftshift(np.fft.fftfreq(npoints,d=dx))\n",
    "        dk=np.diff(k).mean()\n",
    "        #first state\n",
    "        self.initialstate=gaussian(x,x0,sigma,p0)\n",
    "        self.xstates=[self.initialstate]\n",
    "        self.pstates=[]\n",
    "        #list with all timesteps\n",
    "        self.tste=[0]\n",
    "    #time evolution\n",
    "    def propagate(self,t,dt):\n",
    "        #first an half step\n",
    "        self.xstates.append(np.exp(-1j*dt*self.V/2)*self.xstates[0])\n",
    "        self.pstates.append(fft(self.initialstate))\n",
    "        self.tste.append(dt/2)\n",
    "        for time in range(int(t/2)-1):\n",
    "            #moving in pulse space\n",
    "            self.pstates.append(np.exp(-1j*self.Ekin*dt)*self.pstates[-1])      \n",
    "            #transforming back to x space\n",
    "            self.xstates.append(ifft(self.pstates[-1]))  \n",
    "            #moving  in x space\n",
    "            self.xstates.append(np.exp(-1j*dt*self.V)*self.xstates[-1])\n",
    "            #transforming to pulse\n",
    "            self.pstates.append(fft(self.xstates[-1]))\n",
    "            self.tste.append(self.tste[-1]+dt)\n",
    "            self.tste.append(self.tste[-1]+dt)\n",
    "        # a last half time step at the end\n",
    "        self.xstates.append(np.exp(-1j*dt*self.V/2)*self.xstates[-1])\n",
    "        self.tste.append(self.tste[-1]+dt/2)\n",
    "        return self.xstates\n",
    "    def return_nxvector(self,n):\n",
    "        #gives back the vector at time n\n",
    "        return self.xstates[n]\n",
    "    def var_mean(self):\n",
    "        #calculate the variance and mean at each time step\n",
    "        means=[]\n",
    "        var=[]\n",
    "        for Psi in self.xstates:\n",
    "            means.append(np.sum(np.conj(Psi)*x*Psi))\n",
    "            var.append(np.sum(np.conj(Psi)*x**2*Psi)-means[-1])\n",
    "        return means,var\n",
    "                     "
   ]
  },
  {
   "cell_type": "code",
   "execution_count": 266,
   "metadata": {},
   "outputs": [
    {
     "name": "stdout",
     "output_type": "stream",
     "text": [
      "[0, 0.05, 0.15000000000000002, 0.25, 0.35, 0.44999999999999996, 0.5499999999999999, 0.6499999999999999, 0.7499999999999999, 0.8499999999999999, 0.9499999999999998, 1.0499999999999998, 1.15, 1.25, 1.35, 1.4500000000000002, 1.5500000000000003, 1.6500000000000004, 1.7500000000000004, 1.8500000000000005, 1.9500000000000006, 2.0500000000000007, 2.150000000000001, 2.250000000000001, 2.350000000000001, 2.450000000000001, 2.550000000000001, 2.6500000000000012, 2.7500000000000013, 2.8500000000000014, 2.9500000000000015, 3.0500000000000016, 3.1500000000000017, 3.2500000000000018, 3.350000000000002, 3.450000000000002, 3.550000000000002, 3.650000000000002, 3.750000000000002, 3.8500000000000023, 3.9500000000000024, 4.0500000000000025, 4.150000000000002, 4.250000000000002, 4.350000000000001, 4.450000000000001, 4.550000000000001, 4.65, 4.75, 4.85, 4.8999999999999995]\n"
     ]
    },
    {
     "name": "stderr",
     "output_type": "stream",
     "text": [
      "C:\\Users\\Tobias\\Anaconda3\\lib\\site-packages\\numpy\\core\\numeric.py:501: ComplexWarning: Casting complex values to real discards the imaginary part\n",
      "  return array(a, dtype, copy=False, order=order)\n"
     ]
    },
    {
     "data": {
      "text/plain": [
       "[<matplotlib.lines.Line2D at 0x25760fcbf98>]"
      ]
     },
     "execution_count": 266,
     "metadata": {},
     "output_type": "execute_result"
    },
    {
     "data": {
      "image/png": "[encoded data removed]",
      "text/plain": [
       "<Figure size 432x288 with 1 Axes>"
      ]
     },
     "metadata": {
      "needs_background": "light"
     },
     "output_type": "display_data"
    }
   ],
   "source": [
    "\n",
    "#starting state\n",
    "x0=0\n",
    "p0=0\n",
    "Ekin=0\n",
    "x=np.linspace(-L/2,L/2,npoints)\n",
    "#creating our wave Packet\n",
    "state=wavePacket(x,x0,sigma,p0,Vpot,Ekin)\n",
    "#moving our package\n",
    "state.propagate(tsteps,dt)\n",
    "#calculating the mean and variance of our vector\n",
    "mean,var=state.var_mean()\n",
    "#plotting mean and variance at the time steps\n",
    "plt.plot(state.tste,mean,label=\"mean\")\n",
    "plt.plot(state.tste,var,label=\"variance\")\n",
    "#inital=ifft(fftshift(np.roll(fftshift(fft(gaussian(x,x0,sigma))),np.int(np.round(p0/dk)))))\n",
    "#psi in k space\n",
    "#Psik=fftshift(fft(initial))"
   ]
  },
  {
   "cell_type": "code",
   "execution_count": null,
   "metadata": {},
   "outputs": [],
   "source": [
    "#animation\n",
    "from matplotlib import animation\n",
    "from IPython.display import HTML\n",
    "\n",
    "fig, ax = plt.subplots()\n",
    "# add axis specifications\n",
    "line, = ax.plot([],[],label='Re{$\\Psi(x)$}')\n",
    "linei,=ax.plot([],[],'--',label='Im{$\\Psi(x)$}')\n",
    "\n",
    "plt.ylim(-0.5,0.5)\n",
    "plt.xlim(-L/2,L/2)\n",
    "plt.legend()\n",
    "plt.xlabel('x')\n",
    "plt.ylabel('Real part of wave function')\n",
    "plt.title('Propagation of gaussian wave packet in free space')\n",
    "def animate(t):\n",
    "    # assign current wave function to y\n",
    "    # x is gloabaly defined\n",
    " #time evolution\n",
    "    xdata=state.return_nxvector(t)\n",
    "    line.set_data(x,np.real(xdata))\n",
    "    linei.set_data(x,np.imag(xdata))\n",
    "    #plt.legend()\n",
    "    #plt.text(-9.5,.9,'t=%.1fs'%t,ha='left',va='top',bbox=dict(facecolor='white', alpha=1))\n",
    "    return (line,)\n",
    "\n",
    "anim = animation.FuncAnimation(fig, animate,\n",
    "                               frames=np.arange(0,tsteps,1), # t-values\n",
    "                               interval=dt*1e4, # wait time before displaying new frame in ms\n",
    "                               blit=True)\n",
    "\n",
    "HTML(anim.to_jshtml())"
   ]
  },
  {
   "cell_type": "markdown",
   "metadata": {},
   "source": [
    "Try out different parameters. What happens if you choose a momentum p0 which is larger than the largest momentum on you momentum space grid?\n",
    "\n",
    "[[Bonus task (not graded): Compare the results to the exact analytical solution for a propagating wave packet. Try to increase the spatial and temporal step size to see how the error depends on them. You can also look at the wave packet in Fourier space, where the analytical solution is even simpler.]]"
   ]
  },
  {
   "cell_type": "markdown",
   "metadata": {},
   "source": [
    "Let the wave packet from before evolve in a harmonic potential (with p0=0). Start with a wave packet that is initially at rest but displaced from the ceneter of the hanmonic potential.\n",
    "\n",
    "Again, calculate temporal evolution of mean and variance and visualize the wave packet evolution in an animation. Is what you observe consistent with your expectation? (A Gaussian wave packet in a harmonic potential is called a coherent state. What did you learn about these in your quantum mechanics lecture?)"
   ]
  },
  {
   "cell_type": "code",
   "execution_count": null,
   "metadata": {},
   "outputs": [],
   "source": [
    "#defining our harmonic oscillator\n",
    "def harmonic_oscillator(x):\n",
    "    return 1/2*x**2\n",
    "L = 20\n",
    "npoints = 256\n",
    "x=np.linspace(-L/2,L/2,npoints)\n",
    "dx=np.diff(x).mean()\n",
    "# parameters of the wave packet\n",
    "x0 = -5;\n",
    "sigma = 1;\n",
    "p0 = 1;\n",
    "\n",
    "#time steps\n",
    "dt = 0.1;\n",
    "tsteps = 50;\n",
    "\n",
    "#potential \n",
    "Vpot=harmonic_oscillator(x)"
   ]
  },
  {
   "cell_type": "code",
   "execution_count": null,
   "metadata": {},
   "outputs": [],
   "source": [
    "harmonic_wave=wavePacket(x,x0,sigma,p0,Vpot,Ekin)\n",
    "harmonic_wave.propagate(tsteps,dt)\n",
    "mean,var=harmonic_wave.var_mean()\n",
    "plt.plot(t,mean,label=\"mean\")\n",
    "plt.plot(t,variance,label=\"variance\")"
   ]
  },
  {
   "cell_type": "code",
   "execution_count": null,
   "metadata": {},
   "outputs": [],
   "source": []
  },
  {
   "cell_type": "markdown",
   "metadata": {},
   "source": [
    "Now simulate the scattering off a potential step $V(x)=\\theta(x)$. Choose different initial velocities. Interpret your results. What happens when the reflected wave packet reaches the boundary of the spatial grid?\n",
    "\n",
    "Example parameters:"
   ]
  },
  {
   "cell_type": "code",
   "execution_count": null,
   "metadata": {},
   "outputs": [],
   "source": [
    "# define the grid\n",
    "L = 40\n",
    "npoints = 512\n",
    "x=np.linspace(-L/2,L/2+40/512,512)\n",
    "# parameters of the wave packet\n",
    "x0 = -10;\n",
    "sigma = 2;\n",
    "p0 = 1;# try also 1.5 and 2\n",
    "\n",
    "#time steps\n",
    "dt = 0.1;\n",
    "tsteps = 250;\n",
    "\n",
    "def step(x,T,N):\n",
    "    b=np.zeros(N)\n",
    "    b[x>T]=1\n",
    "    return b\n",
    "stepfct=step(x,20,512)\n",
    "\n",
    "\n",
    "stepwave=wavePacket(x,x0,sigma,p0,stepfct,Ekin)\n",
    "stepwave.propagate(tsteps,dt)\n",
    "mean,var=stepwave.var_mean()\n",
    "plt.plot(t,mean,label=\"mean\")\n",
    "plt.plot(t,variance,label=\"variance\")"
   ]
  },
  {
   "cell_type": "markdown",
   "metadata": {},
   "source": [
    "[[Bonus question: Be creative! Let your wave packet propagate through a potential barrier, across a well, or down a step etc. Measure the reflected and transitted pobability (and the probability to be inside the barrier) as a function of time and study the transmission systematically as a function of the initial momentum...]]"
   ]
  },
  {
   "cell_type": "code",
   "execution_count": null,
   "metadata": {},
   "outputs": [],
   "source": []
  }
 ],
 "metadata": {
  "kernelspec": {
   "display_name": "Python 3",
   "language": "python",
   "name": "python3"
  },
  "language_info": {
   "codemirror_mode": {
    "name": "ipython",
    "version": 3
   },
   "file_extension": ".py",
   "mimetype": "text/x-python",
   "name": "python",
   "nbconvert_exporter": "python",
   "pygments_lexer": "ipython3",
   "version": "3.7.0"
  }
 },
 "nbformat": 4,
 "nbformat_minor": 2
}
