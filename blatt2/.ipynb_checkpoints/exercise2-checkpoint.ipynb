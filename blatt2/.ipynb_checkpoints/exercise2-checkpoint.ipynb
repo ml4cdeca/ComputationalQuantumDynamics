{
 "cells": [
  {
   "cell_type": "markdown",
   "metadata": {},
   "source": [
    "# Programming exercise 2: Split-step Fourier method\n",
    "\n",
    "Due on Monday, 05.11.2018, 14.15h\n",
    "\n",
    "### Total: 100 points"
   ]
  },
  {
   "cell_type": "markdown",
   "metadata": {},
   "source": [
    "## Defining the problem\n",
    "\n",
    "We want to calculate the time evolution of a quantum particle in a on-dimensional potential, i.e. solve the initial value problem\n",
    "\n",
    "$$ i\\partial_t \\psi(x,t) = \\left[-\\frac{1}{2} \\partial_{x}^2 + V(x)\\right] \\psi(x,t) $$\n",
    "\n",
    "with initial condition\n",
    "\n",
    "$$ \\psi(x,t=0) = \\psi_0(x) $$\n",
    "\n",
    "by representing the wave function $\\psi(x,t)$ on a discrete spatial grid and propagating it using the split-step Fourier method."
   ]
  },
  {
   "cell_type": "code",
   "execution_count": null,
   "metadata": {
    "collapsed": true
   },
   "outputs": [],
   "source": [
    "# load standard libraries\n",
    "\n",
    "import numpy as np   # standard numerics library\n",
    "\n",
    "import matplotlib.pyplot as plt   # for making plots\n",
    "\n",
    "%matplotlib inline"
   ]
  },
  {
   "cell_type": "markdown",
   "metadata": {},
   "source": [
    "### Exercise 1 (50 points)\n",
    "\n",
    "Write a function that calculates the discrete Fourier transform of a wave function. Use only even numbers of grid points. You have learned that the spli-step-Fourier method automatically imposes periodic bounbary conditions, so it makes sense to define the spatial grid like -L/2,-L/2+dx ... L/2-dx.\n",
    "\n",
    "Test your code by Fourier transforming functions where you know what the outcome should be, e.g. a constant function, a cos-function etc.\n",
    "Implement also the inverse Fourier transform. Make sure you get back the original function after applying the FT twice.\n",
    "\n",
    "Numpy provides a fast Fourier transform module. Campare your manual FT the result of the fast Fourier algorithm. Pay special attention the ordering in which the Fourier components are retured by the FFT."
   ]
  },
  {
   "cell_type": "markdown",
   "metadata": {},
   "source": [
    "Math of the DFT:\n",
    "\n",
    "We are given a sequence of N numbers {$x_n$}$:=x_0, x_1,\\ldots,x_{N-1}$ and transform it into another sequence {$X_k$}$=X_0,\\ldots,X_{N-1}$.$$X_k=\\sum_{n=0}^{N-1} x_n \\cdot \\left[ \\cos(2\\pi kn/N)-i\\cdot \\sin(2\\pi kn/N)\\right]$$"
   ]
  },
  {
   "cell_type": "code",
   "execution_count": null,
   "metadata": {
    "collapsed": true
   },
   "outputs": [],
   "source": [
    "#create discrete Fourier transform-function:\n",
    "#takes an L>0 and 0< #a ∈2ℕ for the length and the number of grid points respectively and returns the discrete\n",
    "#Fourier Transformation of the array a\n",
    "def DFT(a,inverse=False): #no need for L\n",
    "    \n",
    "    #if L<0:# or N<0:\n",
    "    #    raise ValueError('The lenght and number of gridpoints needs to be a positive number.')\n",
    "    if len(a)%2==1:\n",
    "        raise ValueError('Number of gridpoints needs to be an even number.')\n",
    "    #define the sign of the exponent:\n",
    "    s=1 if inverse else -1\n",
    "    #create grid:\n",
    "    #x=np.linspace(-L/2,L/2,len(a)) #unnötig\n",
    "    #dx=L/N\n",
    "    #result array A\n",
    "    A=[]\n",
    "    def transform(k):\n",
    "        Ak=0\n",
    "        for i in range(len(a)):\n",
    "            Ak+=a[i]*np.exp(2j*np.pi*k*i*s/len(a))\n",
    "        if inverse:\n",
    "            return Ak/len(a)\n",
    "        else:\n",
    "            return Ak\n",
    "    for i in range(len(a)):\n",
    "        A.append(transform(i))\n",
    "    return np.roll(A,-int(len(A)/2)) #rearrange\n",
    "#inverse DFT outsourced:\n",
    "def iDFT(A,L,N):\n",
    "    return DFT(A,L,N,inverse=True)"
   ]
  },
  {
   "cell_type": "markdown",
   "metadata": {},
   "source": [
    "#### testing\n",
    "Testing on the box function $$\\text{box}=\\begin{cases} 1 \\text{, for } |x| \\leq \\frac T2\\\\0 \\text{, else}\\end{cases}$$ $$\\mathcal F[\\text{box}(x)]=\\dfrac{1}{\\sqrt{2\\pi}} \\int_{-\\infty}^{\\infty} \\text{box}(t)\\ e^{-i\\omega t} dt = \\dfrac{1}{\\sqrt{2\\pi}} \\int_{-\\frac12}^{\\frac12}e^{-i\\omega t} dt=\\dfrac{1}{\\sqrt{2\\pi}} \\dfrac{2 \\sin(\\omega/2)}{\\omega} =\\dfrac4{\\sqrt{2\\pi}} \\text{sinc}(\\omega /2)$$"
   ]
  },
  {
   "cell_type": "code",
   "execution_count": null,
   "metadata": {
    "collapsed": false
   },
   "outputs": [],
   "source": [
    "#box function: expected outcome: sinc(x)\n",
    "grid=100\n",
    "a=np.linspace(-1,1-2/grid,grid)\n",
    "def box(x,T,N):\n",
    "    b=np.zeros(N)\n",
    "    b[abs(x)<=T]=1\n",
    "    return b\n",
    "x=box(a,.5,grid)\n",
    "plt.plot(a,x,label='box')\n",
    "plt.plot(a,np.real(DFT(x)),label='self written')\n",
    "plt.plot(a,np.real(np.fft.fftshift(np.fft.fft(x))),'--',label='numpy fft')\n",
    "plt.title('Fourier transform of the box function')\n",
    "plt.xlabel('$x$ and $\\omega$')\n",
    "plt.ylabel('y')\n",
    "plt.legend()"
   ]
  },
  {
   "cell_type": "markdown",
   "metadata": {},
   "source": [
    "Our own implementation and the numpy function give the same results. in this case as predicted a sinc function."
   ]
  },
  {
   "cell_type": "markdown",
   "metadata": {},
   "source": [
    "### Exercise 2 (50 points)\n",
    "\n",
    "Implement the split step Fourier algorithm using the numpy FFT and iFFT functions.\n",
    "\n",
    "Test your code by propagating a Gaussian wave packet in free space. \n",
    "\n",
    "Calculate mean and variance at each time and plot them. Does you observation match your expectation?\n",
    "\n",
    "Animate the time evolution of the wave packet as we did in exercise 5 of programming exercise 1.\n",
    "\n",
    "Here are some example parameter that you could use:"
   ]
  },
  {
   "cell_type": "markdown",
   "metadata": {},
   "source": [
    "Note: The code below does not work as intended. We were not able to attend the lecture and exercise last week, as we had an experiment. The split step algorithm should be fine, but as we were not sure, how the Ekin is supposed to be obtained(our implementation is a constant value)as the solutions dont make any sense. We still try to explain what would be theoretically expected."
   ]
  },
  {
   "cell_type": "code",
   "execution_count": null,
   "metadata": {
    "collapsed": true
   },
   "outputs": [],
   "source": [
    "#defining the gaussian with all parameters\n",
    "def gaussian(x,mu,sig,p0):\n",
    "    return 1/np.sqrt(np.sqrt(2*np.pi)*sig**2)*np.exp(-((x-mu)**2/(4*sig**2)))*np.exp(-1j*p0*x)"
   ]
  },
  {
   "cell_type": "code",
   "execution_count": null,
   "metadata": {
    "collapsed": true
   },
   "outputs": [],
   "source": [
    "# define the grid\n",
    "L = 20\n",
    "npoints = 256\n",
    "x=np.linspace(-L/2,L/2-L/npoints,npoints)\n",
    "dx=np.diff(x).mean()\n",
    "# parameters of the wave packet\n",
    "x0 = -5;\n",
    "sigma = 1;\n",
    "p0 = 1;\n",
    "\n",
    "#time steps\n",
    "dt = 0.1;\n",
    "tsteps = 200;\n",
    "\n",
    "#potential \n",
    "Vpot=0\n"
   ]
  },
  {
   "cell_type": "code",
   "execution_count": null,
   "metadata": {
    "collapsed": true
   },
   "outputs": [],
   "source": [
    "\n",
    "from numpy.fft import fft,ifft,fftshift,ifftshift\n",
    "#define k space\n",
    "k=fftshift(np.fft.fftfreq(npoints,d=dx))\n",
    "dk=np.diff(k).mean()\n",
    "Ekin=k**2/2\n",
    "#kinetic energy"
   ]
  },
  {
   "cell_type": "code",
   "execution_count": null,
   "metadata": {
    "collapsed": true
   },
   "outputs": [],
   "source": [
    "class wavePacket:\n",
    "    #initialize wave packet\n",
    "    def __init__(self,x,x0,sigma,p0,V,Ekin):\n",
    "        self.x0,self.sigma,self.p0,self.V,self.Ekin=x0,sigma,p0,V,Ekin\n",
    "        k=fftshift(np.fft.fftfreq(npoints,d=dx))\n",
    "        dk=np.diff(k).mean()\n",
    "        #first state\n",
    "        self.initialstate=gaussian(x,x0,sigma,p0)\n",
    "        self.xstates=[self.initialstate]\n",
    "        self.pstates=[]\n",
    "        #list with all timesteps\n",
    "        self.tste=[0]\n",
    "    #time evolution\n",
    "    def propagate(self,t,dt):\n",
    "        #first an half step\n",
    "        self.xstates.append(np.exp(-1j*dt*self.V/2)*self.xstates[0])\n",
    "        self.pstates.append(fft(self.initialstate))\n",
    "        self.tste.append(dt/2)\n",
    "        for time in range(int(t/2)-1):\n",
    "            #moving in pulse space\n",
    "            self.pstates.append(np.exp(-1j*self.Ekin*dt)*self.pstates[-1])      \n",
    "            #transforming back to x space\n",
    "            self.xstates.append(ifft(self.pstates[-1]))  \n",
    "            #moving  in x space\n",
    "            self.xstates.append(np.exp(-1j*dt*self.V)*self.xstates[-1])\n",
    "            #transforming to pulse\n",
    "            self.pstates.append(fft(self.xstates[-1]))\n",
    "            self.tste.append(self.tste[-1]+dt)\n",
    "            self.tste.append(self.tste[-1]+dt)\n",
    "        # a last half time step at the end\n",
    "        self.xstates.append(np.exp(-1j*dt*self.V/2)*self.xstates[-1])\n",
    "        self.tste.append(self.tste[-1]+dt/2)\n",
    "        return self.xstates\n",
    "    def return_nxvector(self,n):\n",
    "        #gives back the vector at time n\n",
    "        return self.xstates[n]\n",
    "    def var_exp(self):\n",
    "        #calculate the variance and mean at each time step\n",
    "        exp=[]\n",
    "        var=[]\n",
    "        for Psi in self.xstates:\n",
    "            exp.append(np.sum(np.conj(Psi)*x*Psi))\n",
    "            var.append(np.sum(np.conj(Psi)*x**2*Psi)-exp[-1]**2)\n",
    "        return exp,var\n",
    "                     "
   ]
  },
  {
   "cell_type": "markdown",
   "metadata": {},
   "source": [
    "First on a gaussian wave packet in free space is observed. One would expect the wave packet to \"melt away\" over time. The expected value of xmean would still be the starting value. "
   ]
  },
  {
   "cell_type": "code",
   "execution_count": null,
   "metadata": {
    "collapsed": false
   },
   "outputs": [],
   "source": [
    "\n",
    "#starting state\n",
    "x=np.linspace(-L/2,L/2-L/npoints,npoints)\n",
    "#creating our wave Packet\n",
    "state=wavePacket(x,x0,sigma,p0,Vpot,Ekin)\n",
    "#moving our package\n",
    "state.propagate(tsteps,dt)\n",
    "#calculating the mean and variance of our vector\n",
    "exp,var=state.var_exp()\n",
    "#plotting mean and variance at the time steps\n",
    "plt.plot(state.tste,np.real(exp),label=\"exp\")\n",
    "plt.title(\"expected x value in free space\")\n",
    "plt.xlabel(\"t[s]\")\n",
    "plt.ylabel(\"x-mean[b.E]\")\n",
    "plt.legend()\n"
   ]
  },
  {
   "cell_type": "code",
   "execution_count": null,
   "metadata": {
    "collapsed": false
   },
   "outputs": [],
   "source": [
    "plt.plot(state.tste,np.real(var),label=\"variance\")\n",
    "plt.title(\"variance in free space\")\n",
    "plt.xlabel(\"t[s]\")\n",
    "plt.ylabel(\"x-mean[b.E]\")\n",
    "plt.legend()"
   ]
  },
  {
   "cell_type": "code",
   "execution_count": null,
   "metadata": {
    "collapsed": false
   },
   "outputs": [],
   "source": [
    "#animation\n",
    "from matplotlib import animation\n",
    "from IPython.display import HTML\n",
    "\n",
    "fig, ax = plt.subplots()\n",
    "# add axis specifications\n",
    "line, = ax.plot([],[],label='|$\\Psi(x)|^2$')\n",
    "\n",
    "plt.ylim(-1,1)\n",
    "plt.xlim(-L/2,L/2)\n",
    "plt.legend()\n",
    "plt.xlabel('x')\n",
    "plt.ylabel('Real part of wave function')\n",
    "plt.title('Propagation of gaussian wave packet in free space')\n",
    "def animate(t):\n",
    "    # assign current wave function to y\n",
    "    # x is gloabaly defined\n",
    "    #time evolution\n",
    "    xdata=state.return_nxvector(t)\n",
    "    line.set_data(x,np.sqrt(np.real(xdata)**2+np.imag(xdata)**2))\n",
    "    return (line,)\n",
    "\n",
    "anim = animation.FuncAnimation(fig, animate,\n",
    "                               frames=np.arange(0,tsteps,1), # t-values\n",
    "                               interval=dt*1e3, # wait time before displaying new frame in ms\n",
    "                               blit=True)\n",
    "\n",
    "HTML(anim.to_jshtml())"
   ]
  },
  {
   "cell_type": "markdown",
   "metadata": {},
   "source": [
    "Try out different parameters. What happens if you choose a momentum p0 which is larger than the largest momentum on you momentum space grid?\n",
    "\n",
    "[[Bonus task (not graded): Compare the results to the exact analytical solution for a propagating wave packet. Try to increase the spatial and temporal step size to see how the error depends on them. You can also look at the wave packet in Fourier space, where the analytical solution is even simpler.]]"
   ]
  },
  {
   "cell_type": "markdown",
   "metadata": {},
   "source": [
    "Not able to try the task above out"
   ]
  },
  {
   "cell_type": "markdown",
   "metadata": {},
   "source": [
    "Let the wave packet from before evolve in a harmonic potential (with p0=0). Start with a wave packet that is initially at rest but displaced from the ceneter of the hanmonic potential.\n",
    "\n",
    "Again, calculate temporal evolution of mean and variance and visualize the wave packet evolution in an animation. Is what you observe consistent with your expectation? (A Gaussian wave packet in a harmonic potential is called a coherent state. What did you learn about these in your quantum mechanics lecture?)"
   ]
  },
  {
   "cell_type": "markdown",
   "metadata": {},
   "source": [
    "Next on is a gaussian in an harmonic oscilator"
   ]
  },
  {
   "cell_type": "code",
   "execution_count": null,
   "metadata": {
    "collapsed": true
   },
   "outputs": [],
   "source": [
    "#defining our harmonic oscillator\n",
    "def harmonic_oscillator(x):\n",
    "    return 1/2*x**2\n",
    "L = 20\n",
    "npoints = 256\n",
    "x=np.linspace(-L/2,L/2,npoints)\n",
    "dx=np.diff(x).mean()\n",
    "# parameters of the wave packet\n",
    "x0 = -2;\n",
    "sigma = 1;\n",
    "p0 = 0;\n",
    "\n",
    "#time steps\n",
    "dt = 0.1;\n",
    "tsteps = 50;\n",
    "#Ekin\n",
    "k=fftshift(np.fft.fftfreq(npoints,d=dx))\n",
    "dk=np.diff(k).mean()\n",
    "Ekin=k**2/2\n",
    "\n",
    "#potential \n",
    "Vpot=harmonic_oscillator(x)"
   ]
  },
  {
   "cell_type": "code",
   "execution_count": null,
   "metadata": {
    "collapsed": false
   },
   "outputs": [],
   "source": [
    "harmonic_wave=wavePacket(x,x0,sigma,p0,Vpot,Ekin)\n",
    "\n",
    "harmonic_wave.propagate(tsteps,dt)\n",
    "exp,var=harmonic_wave.var_exp()\n",
    "plt.plot(harmonic_wave.tste,np.real(exp),label=\"mean\")\n",
    "plt.title(\"expected x value in a Harmonic Potential\")\n",
    "plt.xlabel(\"t[s]\")\n",
    "plt.ylabel(\"x-mean[b.E]\")\n",
    "plt.legend()\n"
   ]
  },
  {
   "cell_type": "code",
   "execution_count": null,
   "metadata": {
    "collapsed": false
   },
   "outputs": [],
   "source": [
    "plt.plot(harmonic_wave.tste,np.real(var),label=\"variance\")\n",
    "plt.title(\"x-variance in a Harmonic Potential\")\n",
    "plt.xlabel(\"t[s]\")\n",
    "plt.ylabel(\"x-variance[b.E]\")\n",
    "plt.legend()"
   ]
  },
  {
   "cell_type": "code",
   "execution_count": null,
   "metadata": {
    "collapsed": false
   },
   "outputs": [],
   "source": [
    "#animation\n",
    "from matplotlib import animation\n",
    "from IPython.display import HTML\n",
    "\n",
    "fig, ax = plt.subplots()\n",
    "# add axis specifications\n",
    "line, = ax.plot([],[],label='|$\\Psi(x)|^2$')\n",
    "\n",
    "plt.ylim(-1,1)\n",
    "plt.xlim(-L/2,L/2)\n",
    "plt.legend()\n",
    "plt.xlabel('x')\n",
    "plt.ylabel('Real part of wave function')\n",
    "plt.title('Propagation of gaussian wave packet in an harmonic potential')\n",
    "def animate2(t):\n",
    "    # assign current wave function to y\n",
    "    # x is gloabaly defined\n",
    "    #time evolution\n",
    "    xdata=harmonic_wave.return_nxvector(t)\n",
    "    line.set_data(x,np.sqrt(np.real(xdata)**2+np.imag(xdata)**2))\n",
    "    return (line,)\n",
    "\n",
    "anim = animation.FuncAnimation(fig, animate2,\n",
    "                               frames=np.arange(0,tsteps,1), # t-values\n",
    "                               interval=dt*1e3, # wait time before displaying new frame in ms\n",
    "                               blit=True)\n",
    "\n",
    "HTML(anim.to_jshtml())"
   ]
  },
  {
   "cell_type": "markdown",
   "metadata": {},
   "source": [
    "Now simulate the scattering off a potential step $V(x)=\\theta(x)$. Choose different initial velocities. Interpret your results. What happens when the reflected wave packet reaches the boundary of the spatial grid?\n",
    "\n",
    "Example parameters:"
   ]
  },
  {
   "cell_type": "markdown",
   "metadata": {},
   "source": [
    "Next on should be the scattering at a potential step. One would expect the wave to tunnel into our barrier and to get reflected."
   ]
  },
  {
   "cell_type": "code",
   "execution_count": null,
   "metadata": {
    "collapsed": true
   },
   "outputs": [],
   "source": [
    "# define the grid\n",
    "L = 40\n",
    "npoints = 512\n",
    "x=np.linspace(-L/2,L/2+40/512,512)\n",
    "dx=np.diff(x).mean()\n",
    "# parameters of the wave packet\n",
    "x0 = -10;\n",
    "sigma = 2;\n",
    "p0 = 1;# try also 1.5 and 2\n",
    "\n",
    "#time steps\n",
    "dt = 0.1;\n",
    "tsteps = 500;\n",
    "\n",
    "def step(x,T,N):\n",
    "    b=np.zeros(N)\n",
    "    b[x>T]=1\n",
    "    return b\n",
    "stepfct=step(x,5,512)\n",
    "\n",
    "\n",
    "k=fftshift(np.fft.fftfreq(npoints,d=dx))\n",
    "dk=np.diff(k).mean()\n",
    "Ekin=k**2/2"
   ]
  },
  {
   "cell_type": "code",
   "execution_count": null,
   "metadata": {
    "collapsed": false
   },
   "outputs": [],
   "source": [
    "stepwave=wavePacket(x,x0,sigma,p0,stepfct,Ekin)\n",
    "stepwave.propagate(tsteps,dt)\n",
    "exp,var=stepwave.var_exp()\n",
    "plt.plot(stepwave.tste,np.real(exp),label=\"mean\")\n",
    "plt.title(\"expected x value with a potential step\")\n",
    "plt.xlabel(\"t[s]\")\n",
    "plt.ylabel(\"x-mean[b.E]\")\n",
    "plt.legend()\n"
   ]
  },
  {
   "cell_type": "code",
   "execution_count": null,
   "metadata": {
    "collapsed": false
   },
   "outputs": [],
   "source": [
    "plt.plot(stepwave.tste,np.real(var),label=\"variance\")\n",
    "plt.title(\"variance with a potential step\")\n",
    "plt.xlabel(\"t[s]\")\n",
    "plt.ylabel(\"x-mean[b.E]\")\n",
    "plt.legend()"
   ]
  },
  {
   "cell_type": "code",
   "execution_count": null,
   "metadata": {
    "collapsed": false
   },
   "outputs": [],
   "source": [
    "#animation\n",
    "from matplotlib import animation\n",
    "from IPython.display import HTML\n",
    "\n",
    "fig, ax = plt.subplots()\n",
    "# add axis specifications\n",
    "line, = ax.plot([],[],label='|$\\Psi(x)|^2$')\n",
    "plt.plot(x,stepfct,lable='potential')\n",
    "plt.xlim(-L/2,L/2)\n",
    "plt.legend()\n",
    "plt.xlabel('x')\n",
    "plt.ylabel('Real part of wave function')\n",
    "plt.title('Propagation of gaussian wave packet in an harmonic potential')\n",
    "def animate3(t):\n",
    "    # assign current wave function to y\n",
    "    # x is gloabaly defined\n",
    "    #time evolution\n",
    "    xdata=stepwave.return_nxvector(t)\n",
    "    line.set_data(x,np.sqrt(np.real(xdata)**2+np.imag(xdata)**2))\n",
    "    return (line,)\n",
    "\n",
    "anim = animation.FuncAnimation(fig, animate3,\n",
    "                               frames=np.arange(0,tsteps,1), # t-values\n",
    "                               interval=dt*1e3, # wait time before displaying new frame in ms\n",
    "                               blit=True)\n",
    "\n",
    "HTML(anim.to_jshtml())"
   ]
  },
  {
   "cell_type": "markdown",
   "metadata": {},
   "source": [
    "[[Bonus question: Be creative! Let your wave packet propagate through a potential barrier, across a well, or down a step etc. Measure the reflected and transitted pobability (and the probability to be inside the barrier) as a function of time and study the transmission systematically as a function of the initial momentum...]]"
   ]
  },
  {
   "cell_type": "code",
   "execution_count": null,
   "metadata": {
    "collapsed": true
   },
   "outputs": [],
   "source": []
  }
 ],
 "metadata": {
  "kernelspec": {
   "display_name": "Python 3",
   "language": "python",
   "name": "python3"
  },
  "language_info": {
   "codemirror_mode": {
    "name": "ipython",
    "version": 3
   },
   "file_extension": ".py",
   "mimetype": "text/x-python",
   "name": "python",
   "nbconvert_exporter": "python",
   "pygments_lexer": "ipython3",
   "version": "3.6.0"
  }
 },
 "nbformat": 4,
 "nbformat_minor": 2
}
