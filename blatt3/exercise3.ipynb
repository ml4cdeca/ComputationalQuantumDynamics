{
 "cells": [
  {
   "cell_type": "markdown",
   "metadata": {},
   "source": [
    "# Programing exercise 3: Coupled oscillators\n",
    "\n",
    "Due on Monday, 12.11.2018, 14.15h\n",
    "\n",
    "### Total: 100 points"
   ]
  },
  {
   "cell_type": "markdown",
   "metadata": {},
   "source": [
    "## The problem\n",
    "\n",
    "Consider two coupled harmonic oscillators described by the Hamiltonian\n",
    "$$\n",
    "H=H_1 + H_2 + V =\\frac{1}{2m}(p_1^2 + p_2^2) + \\frac{1}{2}k(x_1^2 + x_2^2) + \\frac{1}{2}\\lambda(x_1 - x_2)^2\n",
    "$$\n",
    "We want to calculate the eigenvalues and eigenfunctions of this Hamiltonian and compare the dynamics of the corresponding classical problem. This is exactly solvable by transforming into center of mass and relatice coordinates. However, we also want to treat the coupling term lambda as a perturbation and solve the problem by expanding into eigenfunctions of the 2D harmonic oscillator and solve the resulting problem, both, perturbatively for small $\\lambda$ and by exact diagonalization."
   ]
  },
  {
   "cell_type": "code",
   "execution_count": 1,
   "metadata": {},
   "outputs": [],
   "source": [
    "# load standard libraries\n",
    "\n",
    "import numpy as np   # standard numerics library\n",
    "import numpy.linalg as LA\n",
    "\n",
    "import matplotlib.pyplot as plt   # for making plots\n",
    "\n",
    "%matplotlib inline"
   ]
  },
  {
   "cell_type": "markdown",
   "metadata": {},
   "source": [
    "### Exercise 1 (20 points)\n",
    "\n",
    "Transform the problem into center of mass and relative coordinates using\n",
    "$$\n",
    "x_{CM}=(x_1+x_2)/2 \\\\\n",
    "x_{rel}=(x_1-x_2)\n",
    "$$ \n",
    "Write a function that returns the classical trajectory for initial conditions $\\{x_1(t=0)=x_{10}, x_2(t=0)=x_{20}, \\dot{x}_1(t=0)=v_{10}, \\dot{x}_2(t=0)=v_{20}\\}$.\n",
    "\n",
    "Make a density plot of the potential and plot the classical trajectory for $m=k=1,\\lambda=0.2$ and ${x_{10}=1,x_{20}=v_{10}=v_{20}=0}$ up to a time $t_f$ into it. Also, plot the positions of the two particles as a function of time. Observe the beating between center-of-mass and relative frequency.\n"
   ]
  },
  {
   "cell_type": "markdown",
   "metadata": {},
   "source": [
    "Very instructive 2D plotting tips:\n",
    "https://jakevdp.github.io/PythonDataScienceHandbook/04.04-density-and-contour-plots.html"
   ]
  },
  {
   "cell_type": "markdown",
   "metadata": {},
   "source": [
    "### Exercise 2 (10 points)\n",
    "\n",
    "What are the exact quantum mechanical eigenenergies? \n",
    "Calculate the ground state energy perturbatively to second order in $\\lambda$. Use the decomposition into ladder operators\n",
    "$$\n",
    "x/x_{HO} = (a^\\dagger + a)/\\sqrt{2}\n",
    "$$\n",
    "Show that the same result is obtained by Taylor expanding the exact ground state energy $E_0 = \\hbar\\omega/2(1+\\sqrt{1+2\\lambda/k}) $ to second order in $\\lambda/k$.\n",
    "\n",
    "Plot the exact and perturbative ground state energy as a function of $\\lambda/k$."
   ]
  },
  {
   "cell_type": "markdown",
   "metadata": {},
   "source": [
    "### Exercise 3 (40 points)\n",
    "\n",
    "Expand the Hamiltonian in the eigenbasis of the 2D harminic oscillators (use the same cutoff $N_1=N_2=N_{max}$ for both oscillator modes 1 and 2). \n",
    "For this, one can expand the perturbation term $\\frac{1}{2}\\lambda(x_1 - x_2)^2$ into ladder operators and then apply it to the unperturbed basis states.\n",
    "How many non-zero elements will there be at most in each row? \n",
    "\n",
    "There are many ways of building the Hamiltonian matrix in the chosen basis. First, make sure you understand what the basis states are and how one would order them in a reasonable way.\n",
    "A failsafe way to build up the Hamiltonian matrix is to iterate over all states of the bare basis and determine the matrix-elments it couples to. Another, arguably more elegant, way is to build the matrix representing the anihilation operator on the Hilbert space of one of the oscillators. The creation operator is then simply the transpose of that and the position operator can be built by adding the two. We have a 2D problem so we work in a Hilbert space that is a tensor product of the two Hilbert spaces of the oscillators. Thus, to represent the position operator $\\hat{x}_1$ acting on oscillator 1 in the full Hilbert space  we have to use $\\hat{x}_1 \\otimes \\mathbf{1}$, where $\\mathbf{1}$ is the identity acting on the second subspace (see the numpy \"eye\" function). This can be achieved by using the Kronecker product. For multiplying or squaring operators you can use the numpy dot product function.\n",
    "The second method might be less efficient if you want to exploit the sparsity of the problem but it is very handy since it requires only to build one operator explicitly and the rest is matrix algebra (or two if you use different basis sizes for the two oscillators).\n",
    "\n",
    "Diagonalize the Hamiltonian and check your result by comparing the ground state energy to the exact result. How small can you make the basis such that the ground sate energy still converged? (You should find that $N_1=N_2=5$, i.e. 25 basis states, is sufficient to get the ground state with good precision up to $\\lambda=2$. Note that using a simple spatial grid to represent the wave function we would need much larger basis sizes!) Also look at some excited states, at least the lowest 6, make sure that your diagonalization results agree with the exact one, and understand the structure of the spectrum.\n",
    "\n",
    "Bonus (not graded): This is of course still a problem that can be solved analytically, and thus we are complicating it by doing the basis set expansion. However, one could now use this method to apply it to non-integrable cases like a quartic (non-linear) coupling or even the quantum version of the Henon-Heiles problem, which does not separate and is classically chaotoic!\n",
    "If you want to go beyond, try other potentials!"
   ]
  },
  {
   "cell_type": "markdown",
   "metadata": {},
   "source": [
    "### Exercise 4 (30 points)\n",
    "\n",
    "Calculate the time evolution for different initial conditions: 1) oscillator 1 in the first excited state, oscillator two in its ground state $|0\\rangle$; 2) oscillator 1 in $|\\psi_0\\rangle = (|0\\rangle+|1\\rangle)/\\sqrt(2)$, oscillator two in state $|0\\rangle$;  3) oscillator 1 in a coherent state (e.g. with $\\langle n \\rangle = |\\alpha|^2 = 2$) and oscillator 2 in $|0\\rangle$. Example parameters: $\\lambda=0.2$, $N_1=N_2=10$, $t_f = 40$.\n",
    "\n",
    "Monitor the dynamics by calculating $\\langle x_1 \\rangle$ and $\\langle x_2 \\rangle$, the energy expectation value of each oscillator, as well as the probabilities for each oscillator to be in state $|n\\rangle$. Compare your observations to the classical expectation: propagate a classical particle with $x_{i0}=\\langle x_i(t=0) \\rangle$ and $p_{i0}=\\langle p_i(t=0) \\rangle$. Describe and interpret your observations.\n",
    "\n",
    "Bonus (not graded): Represent the wave function on a 2D spatial grid using the exact harmonic oscillator eigenfunctions. Animate the time-dependence of the wave packet."
   ]
  },
  {
   "cell_type": "code",
   "execution_count": null,
   "metadata": {},
   "outputs": [],
   "source": []
  }
 ],
 "metadata": {
  "kernelspec": {
   "display_name": "Python 3",
   "language": "python",
   "name": "python3"
  },
  "language_info": {
   "codemirror_mode": {
    "name": "ipython",
    "version": 3
   },
   "file_extension": ".py",
   "mimetype": "text/x-python",
   "name": "python",
   "nbconvert_exporter": "python",
   "pygments_lexer": "ipython3",
   "version": "3.7.0"
  }
 },
 "nbformat": 4,
 "nbformat_minor": 2
}
